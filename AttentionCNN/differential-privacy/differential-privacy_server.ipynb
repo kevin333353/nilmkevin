{
 "cells": [
  {
   "cell_type": "code",
   "execution_count": 1,
   "id": "55d0eb76",
   "metadata": {},
   "outputs": [
    {
     "name": "stderr",
     "output_type": "stream",
     "text": [
      "/home/awinlab/anaconda3/envs/daniel_flower/lib/python3.7/site-packages/tqdm/auto.py:22: TqdmWarning: IProgress not found. Please update jupyter and ipywidgets. See https://ipywidgets.readthedocs.io/en/stable/user_install.html\n",
      "  from .autonotebook import tqdm as notebook_tqdm\n",
      "INFO flower 2023-03-16 20:15:56,168 | app.py:134 | Starting Flower server, config: ServerConfig(num_rounds=3, round_timeout=None)\n",
      "INFO flower 2023-03-16 20:15:56,175 | app.py:148 | Flower ECE: gRPC server running (3 rounds), SSL is disabled\n",
      "INFO flower 2023-03-16 20:15:56,176 | server.py:86 | Initializing global parameters\n",
      "INFO flower 2023-03-16 20:15:56,176 | server.py:270 | Requesting initial parameters from one random client\n",
      "INFO flower 2023-03-16 20:16:39,326 | server.py:274 | Received initial parameters from one random client\n",
      "INFO flower 2023-03-16 20:16:39,328 | server.py:88 | Evaluating initial parameters\n",
      "INFO flower 2023-03-16 20:16:39,328 | server.py:101 | FL starting\n",
      "DEBUG flower 2023-03-16 20:16:49,180 | server.py:220 | fit_round 1: strategy sampled 3 clients (out of 3)\n",
      "DEBUG flower 2023-03-16 20:19:17,451 | server.py:234 | fit_round 1 received 3 results and 0 failures\n",
      "WARNING flower 2023-03-16 20:19:17,509 | fedavg.py:242 | No fit_metrics_aggregation_fn provided\n",
      "DEBUG flower 2023-03-16 20:19:17,511 | server.py:170 | evaluate_round 1: strategy sampled 3 clients (out of 3)\n",
      "DEBUG flower 2023-03-16 20:19:30,420 | server.py:184 | evaluate_round 1 received 3 results and 0 failures\n",
      "WARNING flower 2023-03-16 20:19:30,421 | fedavg.py:273 | No evaluate_metrics_aggregation_fn provided\n",
      "DEBUG flower 2023-03-16 20:19:30,424 | server.py:220 | fit_round 2: strategy sampled 3 clients (out of 3)\n",
      "DEBUG flower 2023-03-16 20:21:56,624 | server.py:234 | fit_round 2 received 3 results and 0 failures\n",
      "DEBUG flower 2023-03-16 20:21:56,680 | server.py:170 | evaluate_round 2: strategy sampled 3 clients (out of 3)\n",
      "DEBUG flower 2023-03-16 20:22:08,873 | server.py:184 | evaluate_round 2 received 3 results and 0 failures\n",
      "DEBUG flower 2023-03-16 20:22:08,874 | server.py:220 | fit_round 3: strategy sampled 3 clients (out of 3)\n",
      "DEBUG flower 2023-03-16 20:24:36,750 | server.py:234 | fit_round 3 received 3 results and 0 failures\n",
      "DEBUG flower 2023-03-16 20:24:36,804 | server.py:170 | evaluate_round 3: strategy sampled 3 clients (out of 3)\n",
      "DEBUG flower 2023-03-16 20:24:48,442 | server.py:184 | evaluate_round 3 received 3 results and 0 failures\n",
      "INFO flower 2023-03-16 20:24:48,443 | server.py:144 | FL finished in 489.11404424899956\n",
      "INFO flower 2023-03-16 20:24:48,447 | app.py:192 | app_fit: losses_distributed [(1, 0.11432062174693176), (2, 0.1145623374299589), (3, 0.11721096847401215)]\n",
      "INFO flower 2023-03-16 20:24:48,448 | app.py:193 | app_fit: metrics_distributed {}\n",
      "INFO flower 2023-03-16 20:24:48,449 | app.py:194 | app_fit: losses_centralized []\n",
      "INFO flower 2023-03-16 20:24:48,455 | app.py:195 | app_fit: metrics_centralized {}\n"
     ]
    },
    {
     "data": {
      "text/plain": [
       "History (loss, distributed):\n",
       "\tround 1: 0.11432062174693176\n",
       "\tround 2: 0.1145623374299589\n",
       "\tround 3: 0.11721096847401215"
      ]
     },
     "execution_count": 1,
     "metadata": {},
     "output_type": "execute_result"
    }
   ],
   "source": [
    "from typing import Callable, Dict\n",
    "import flwr as fl\n",
    "import torch.nn.functional as F\n",
    "import torch.nn as nn\n",
    "\n",
    "\n",
    "\n",
    "def get_on_fit_config_fn() -> Callable[[int], Dict[str, str]]:\n",
    "    def fit_config(rnd: int) -> Dict[str, str]:\n",
    "        config = {\n",
    "            \"learning_rate\": str(0.001),\n",
    "            \"batch_size\": 32,\n",
    "        }\n",
    "        return config\n",
    "    return fit_config\n",
    "\n",
    "\n",
    "strategy_avg = fl.server.strategy.FedAvg(\n",
    "    fraction_fit=1,\n",
    "    fraction_evaluate=1,\n",
    "    min_fit_clients=3,\n",
    "    min_evaluate_clients=3,\n",
    "    min_available_clients=3\n",
    ")\n",
    "\n",
    "strategy = fl.server.strategy.DPFedAvgFixed(strategy_avg, 3, clip_norm = 0.01, noise_multiplier = 0.01, server_side_noising = True)\n",
    "\n",
    "\n",
    "\n",
    "fl.server.start_server(\n",
    "        server_address=\"0.0.0.0:8080\",\n",
    "        config=fl.server.ServerConfig(num_rounds=3),\n",
    "        strategy=strategy,\n",
    "    )\n"
   ]
  },
  {
   "cell_type": "code",
   "execution_count": null,
   "id": "1d24c3de",
   "metadata": {},
   "outputs": [],
   "source": []
  }
 ],
 "metadata": {
  "kernelspec": {
   "display_name": "daniel_flower",
   "language": "python",
   "name": "daniel_flower"
  },
  "language_info": {
   "codemirror_mode": {
    "name": "ipython",
    "version": 3
   },
   "file_extension": ".py",
   "mimetype": "text/x-python",
   "name": "python",
   "nbconvert_exporter": "python",
   "pygments_lexer": "ipython3",
   "version": "3.7.12"
  }
 },
 "nbformat": 4,
 "nbformat_minor": 5
}
