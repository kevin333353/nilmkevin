{
 "cells": [
  {
   "cell_type": "code",
   "execution_count": 1,
   "id": "811d17d6",
   "metadata": {
    "scrolled": true
   },
   "outputs": [
    {
     "name": "stderr",
     "output_type": "stream",
     "text": [
      "/home/awinlab/anaconda3/envs/daniel_flower/lib/python3.7/site-packages/tqdm/auto.py:22: TqdmWarning: IProgress not found. Please update jupyter and ipywidgets. See https://ipywidgets.readthedocs.io/en/stable/user_install.html\n",
      "  from .autonotebook import tqdm as notebook_tqdm\n"
     ]
    }
   ],
   "source": [
    "import os\n",
    "import pandas as pd\n",
    "import numpy as np\n",
    "import torch\n",
    "import torch.nn as nn\n",
    "import torch.optim as optim\n",
    "from sklearn.metrics import mean_squared_error, mean_absolute_error, r2_score\n",
    "from sklearn.model_selection import StratifiedKFold\n",
    "from sklearn import metrics\n",
    "from torch.utils.data import DataLoader, TensorDataset\n",
    "\n",
    "np.random.seed(1337)\n",
    "\n",
    "# Load and process the data\n",
    "aggregate_df1 = pd.read_csv('/home/awinlab/Documents/kevin/elec110.csv', index_col='datetime', parse_dates=True)\n",
    "aggregate_df1 = aggregate_df1[:900000]\n",
    "\n",
    "plug1_1 = pd.read_csv('/home/awinlab/Documents/kevin/plug1-2.csv', index_col='datetime', parse_dates=True)\n",
    "plug1_1 = plug1_1[:900000]\n",
    "\n",
    "aggregate_df1 = aggregate_df1.drop(['Unnamed: 0','id','device', 'vo', 'cu', 'reactive', 'apparent', 'pf', 'freq'], axis=1)\n",
    "plug1_1 = plug1_1.drop(['Unnamed: 0','id','device', 'vo', 'cu', 'reactive', 'apparent', 'pf', 'freq'], axis=1)"
   ]
  },
  {
   "cell_type": "code",
   "execution_count": 2,
   "id": "664962ab",
   "metadata": {},
   "outputs": [],
   "source": [
    "device = torch.device(\"cuda:0\" if torch.cuda.is_available() else \"cpu\")"
   ]
  },
  {
   "cell_type": "code",
   "execution_count": 3,
   "id": "2a9e2fe8",
   "metadata": {},
   "outputs": [],
   "source": [
    "class TimeSeriesDataset(torch.utils.data.Dataset):\n",
    "    def __init__(self, X, y, length=100):\n",
    "        self.X = X\n",
    "        self.y = y\n",
    "        self.length = length\n",
    "\n",
    "    def __len__(self):\n",
    "        return len(self.X) - self.length\n",
    "\n",
    "    def __getitem__(self, idx):\n",
    "        X = self.X[idx: idx + self.length]\n",
    "        y = self.y[idx: idx + self.length]\n",
    "        return X, y\n",
    "\n",
    "mask = [i % 5 != 0 for i in range(len(aggregate_df1))]\n",
    "X_train = aggregate_df1[~np.array(mask)]\n",
    "X_test = aggregate_df1[mask]\n",
    "\n",
    "\n",
    "\n",
    "mask1 = [i % 5 != 0 for i in range(len(plug1_1))]\n",
    "y_train = plug1_1[~np.array(mask1)]\n",
    "y_test = plug1_1[mask1]\n",
    "\n",
    "X_train = pd.DataFrame(X_train)\n",
    "X_test = pd.DataFrame(X_test)\n",
    "y_train = pd.DataFrame(y_train)\n",
    "y_test = pd.DataFrame(y_test)\n",
    "\n",
    "\n",
    "X_train = torch.tensor(X_train.values).float()\n",
    "X_test = torch.tensor(X_test.values).float()\n",
    "y_train = torch.tensor(y_train.values).float()\n",
    "y_test = torch.tensor(y_test.values).float()\n"
   ]
  },
  {
   "cell_type": "code",
   "execution_count": 4,
   "id": "036e6c85",
   "metadata": {},
   "outputs": [],
   "source": [
    "batch_size=60\n",
    "\n",
    "train_dataset = TimeSeriesDataset(X_train, y_train)\n",
    "train_loader = torch.utils.data.DataLoader(train_dataset, batch_size=batch_size, shuffle=False, pin_memory=True, num_workers = 0, drop_last = True, \n",
    "                                           collate_fn=lambda x: (torch.nn.utils.rnn.pad_sequence([i[0] for i in x], batch_first=True),\n",
    "                                                                 torch.nn.utils.rnn.pad_sequence([i[1] for i in x], batch_first=True)))\n",
    "\n",
    "test_dataset = TimeSeriesDataset(X_test, y_test)\n",
    "test_loader = torch.utils.data.DataLoader(test_dataset, batch_size=batch_size, shuffle=False, pin_memory=True, num_workers = 0, drop_last = True,\n",
    "                                           collate_fn=lambda x: (torch.nn.utils.rnn.pad_sequence([i[0] for i in x], batch_first=True),\n",
    "                                                                 torch.nn.utils.rnn.pad_sequence([i[1] for i in x], batch_first=True)))"
   ]
  },
  {
   "cell_type": "code",
   "execution_count": 5,
   "id": "87d5776e",
   "metadata": {},
   "outputs": [],
   "source": [
    "import torch.nn.functional as F\n",
    "from torch.nn import L1Loss\n",
    "\n",
    "class sgn_branch_network(nn.Module):\n",
    "    def __init__(self, mains_length, appliance_length):\n",
    "        super(sgn_branch_network, self).__init__()\n",
    "        self.mains_length = mains_length\n",
    "        self.appliance_length = appliance_length\n",
    "        \n",
    "        self.conv = nn.Sequential(\n",
    "            nn.ConstantPad1d((4, 5), 0),\n",
    "            nn.Conv1d(100, 30, 10, stride = 1),\n",
    "            nn.ReLU(True),\n",
    "            nn.ConstantPad1d((3, 4), 0),\n",
    "            nn.Conv1d(30, 30, 8, stride = 1),\n",
    "            nn.ReLU(True),\n",
    "            nn.ConstantPad1d((2, 3), 0),\n",
    "            nn.Conv1d(30, 40, 6, stride = 1),\n",
    "            nn.ReLU(True),\n",
    "            nn.ConstantPad1d((2, 2), 0),\n",
    "            nn.Conv1d(40, 50, 5, stride = 1),\n",
    "            nn.ReLU(True),\n",
    "            nn.ConstantPad1d((2, 2), 0),\n",
    "            nn.Conv1d(50, 50, 5, stride = 1),\n",
    "            nn.ReLU(True)\n",
    "        )\n",
    "        self.dense = nn.Sequential(\n",
    "            nn.Linear(50 , 1024),\n",
    "            nn.ReLU(True),\n",
    "            nn.Linear(1024, 100)\n",
    "        )\n",
    "        \n",
    "    def forward(self, x):\n",
    "        x = self.conv(x)\n",
    "        x = self.dense(x.view(x.size(0), -1))\n",
    "        return x\n",
    "\n",
    "\n",
    "class sgn_Pytorch(nn.Module):\n",
    "    def __init__(self, mains_length, appliance_length):\n",
    "        # Refer to \"SHIN C, JOO S, YIM J. Subtask Gated Networks for Non-Intrusive Load Monitoring[J]. Proceedings of the AAAI Conference on Artificial Intelligence.\"\n",
    "        super(sgn_Pytorch, self).__init__()\n",
    "        self.gate = sgn_branch_network(mains_length, appliance_length)\n",
    "        self.reg = sgn_branch_network(mains_length, appliance_length)\n",
    "        self.act = nn.Sigmoid()\n",
    "        self.b = nn.parameter.Parameter(torch.zeros(1))\n",
    "\n",
    "    def forward(self, x):\n",
    "        reg_power = self.reg(x)\n",
    "        app_state = self.act(self.gate(x))\n",
    "        app_power = reg_power * app_state + (1 - app_state) * self.b\n",
    "        return app_power, app_state\n",
    "    \n",
    "n_input = 100\n",
    "input_shape = (n_input, 1)\n",
    "model = sgn_Pytorch(60, n_input)\n",
    "\n",
    "loss_fn = nn.MSELoss()\n",
    "optimizer = torch.optim.Adam(model.parameters(), lr=0.0001, betas=(0.9, 0.999), eps=1e-08)\n",
    "mae_fn = nn.L1Loss()\n",
    "\n",
    "model = model.to(device)\n",
    "loss_fn = loss_fn.to(device)\n",
    "mae_fn = mae_fn.to(device)"
   ]
  },
  {
   "cell_type": "code",
   "execution_count": 6,
   "id": "e0cc0c80",
   "metadata": {},
   "outputs": [],
   "source": [
    "def rete(y_true, y_pred):\n",
    "    y_true = y_true.view(-1, 1)\n",
    "    y_pred = y_pred.view(-1, 1)\n",
    "\n",
    "    # Compute the maximum value between y_true and y_pred element-wise, and reshape it to have shape (batch_size*seq_len, 1)\n",
    "    max_val, _ = torch.max(torch.cat([y_pred, y_true], dim=1), dim=1, keepdim=True)\n",
    "\n",
    "    # Compute the relative error between y_true and y_pred element-wise, and reshape it to have shape (batch_size*seq_len, 1)\n",
    "    rel_err = torch.abs(y_pred - y_true) / max_val\n",
    "\n",
    "    # Take the mean of the relative error across all samples in the batch\n",
    "    return torch.mean(rel_err)"
   ]
  },
  {
   "cell_type": "code",
   "execution_count": 7,
   "id": "4c356ab4",
   "metadata": {},
   "outputs": [
    {
     "name": "stderr",
     "output_type": "stream",
     "text": [
      "100%|██████████| 2998/2998 [00:28<00:00, 105.32it/s]\n"
     ]
    },
    {
     "name": "stdout",
     "output_type": "stream",
     "text": [
      "Epoch [1/5], Step [2997/2998], Loss: 0.9369848370552063, MAE: 0.783564031124115, Rete: 0.047636982053518295\n"
     ]
    },
    {
     "name": "stderr",
     "output_type": "stream",
     "text": [
      "100%|██████████| 2998/2998 [00:28<00:00, 105.18it/s]\n"
     ]
    },
    {
     "name": "stdout",
     "output_type": "stream",
     "text": [
      "Epoch [2/5], Step [2997/2998], Loss: 0.9373009204864502, MAE: 0.783632218837738, Rete: 0.04764065891504288\n"
     ]
    },
    {
     "name": "stderr",
     "output_type": "stream",
     "text": [
      "100%|██████████| 2998/2998 [00:28<00:00, 104.71it/s]\n"
     ]
    },
    {
     "name": "stdout",
     "output_type": "stream",
     "text": [
      "Epoch [3/5], Step [2997/2998], Loss: 0.9367605447769165, MAE: 0.7830564975738525, Rete: 0.04760592058300972\n"
     ]
    },
    {
     "name": "stderr",
     "output_type": "stream",
     "text": [
      "100%|██████████| 2998/2998 [00:28<00:00, 104.47it/s]\n"
     ]
    },
    {
     "name": "stdout",
     "output_type": "stream",
     "text": [
      "Epoch [4/5], Step [2997/2998], Loss: 0.9361603856086731, MAE: 0.7824597954750061, Rete: 0.04756999760866165\n"
     ]
    },
    {
     "name": "stderr",
     "output_type": "stream",
     "text": [
      "100%|██████████| 2998/2998 [00:27<00:00, 110.62it/s]"
     ]
    },
    {
     "name": "stdout",
     "output_type": "stream",
     "text": [
      "Epoch [5/5], Step [2997/2998], Loss: 0.9355154633522034, MAE: 0.7818605303764343, Rete: 0.04753399267792702\n"
     ]
    },
    {
     "name": "stderr",
     "output_type": "stream",
     "text": [
      "\n"
     ]
    }
   ],
   "source": [
    "import matplotlib.pyplot as plt\n",
    "import tqdm\n",
    "\n",
    "num_epochs = 5\n",
    "\n",
    "for epoch in range(num_epochs):\n",
    "    for i, (X_batch, y_batch) in enumerate(tqdm.tqdm(train_loader)):\n",
    "        X_batch, y_batch = X_batch.to(device), y_batch.to(device)\n",
    "        y_pred1, y_pred2 = model(X_batch) \n",
    "        batch_size, sequence_length, output_size = y_batch.shape\n",
    "        y_batch = y_batch.reshape(batch_size * sequence_length, output_size)\n",
    "        y_pred1 = y_pred1.reshape(batch_size * sequence_length, 1)\n",
    "        loss = loss_fn(y_pred1, y_batch)\n",
    "        mae = mae_fn(y_pred1, y_batch)\n",
    "        rete_val = rete(y_batch[:, 0], y_pred1.view(-1))\n",
    "        optimizer.zero_grad()\n",
    "        loss.backward()\n",
    "        optimizer.step()\n",
    "\n",
    "    tqdm.tqdm.write(f\"Epoch [{epoch+1}/{num_epochs}], Step [{i}/{len(train_loader)}], Loss: {loss.item()}, MAE: {mae.item()}, Rete: {rete_val.item()}\")\n",
    "\n"
   ]
  },
  {
   "cell_type": "code",
   "execution_count": 8,
   "id": "256e9f6c",
   "metadata": {},
   "outputs": [
    {
     "name": "stderr",
     "output_type": "stream",
     "text": [
      "/home/awinlab/anaconda3/envs/daniel_flower/lib/python3.7/site-packages/ipykernel_launcher.py:6: UserWarning: To copy construct from a tensor, it is recommended to use sourceTensor.clone().detach() or sourceTensor.clone().detach().requires_grad_(True), rather than torch.tensor(sourceTensor).\n",
      "  \n"
     ]
    }
   ],
   "source": [
    "predict = []\n",
    "model = model.cpu()\n",
    "with torch.no_grad():\n",
    "    for inputs, labels in test_loader:\n",
    "        outputs = model(inputs)\n",
    "        predict.append(torch.tensor(outputs[0][:, 0].unsqueeze(1)))  # 轉換為張量\n",
    "predict = torch.cat(predict, dim=0)\n",
    "predict_list = np.concatenate([p.detach().numpy() for p in predict], axis=0)"
   ]
  },
  {
   "cell_type": "code",
   "execution_count": 9,
   "id": "06c8a07f",
   "metadata": {},
   "outputs": [
    {
     "data": {
      "text/plain": [
       "(719880,)"
      ]
     },
     "execution_count": 9,
     "metadata": {},
     "output_type": "execute_result"
    }
   ],
   "source": [
    "predict_list.shape"
   ]
  },
  {
   "cell_type": "code",
   "execution_count": 10,
   "id": "275e8122",
   "metadata": {},
   "outputs": [
    {
     "data": {
      "image/png": "[encoded data removed]",
      "text/plain": [
       "<Figure size 432x288 with 1 Axes>"
      ]
     },
     "metadata": {},
     "output_type": "display_data"
    }
   ],
   "source": [
    "import matplotlib.pyplot as plt\n",
    "fig = plt.figure(facecolor='white')\n",
    "plt.plot(y_test)\n",
    "plt.plot(predict_list,color='darkorange')\n",
    "plt.xlabel('Time')\n",
    "plt.ylabel(\"W\")\n",
    "plt.title(\"plug1-2\")\n",
    "plt.savefig('/home/awinlab/Documents/kevin/SGN/pytorch/SGN_plug1-2.png')\n",
    "plt.show()"
   ]
  },
  {
   "cell_type": "code",
   "execution_count": null,
   "id": "a1eb7823",
   "metadata": {},
   "outputs": [],
   "source": []
  }
 ],
 "metadata": {
  "kernelspec": {
   "display_name": "daniel_flower",
   "language": "python",
   "name": "daniel_flower"
  },
  "language_info": {
   "codemirror_mode": {
    "name": "ipython",
    "version": 3
   },
   "file_extension": ".py",
   "mimetype": "text/x-python",
   "name": "python",
   "nbconvert_exporter": "python",
   "pygments_lexer": "ipython3",
   "version": "3.7.12"
  }
 },
 "nbformat": 4,
 "nbformat_minor": 5
}
