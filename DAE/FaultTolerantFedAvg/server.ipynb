{
 "cells": [
  {
   "cell_type": "code",
   "execution_count": 1,
   "metadata": {},
   "outputs": [
    {
     "name": "stderr",
     "output_type": "stream",
     "text": [
      "2023-02-10 16:27:49.751938: W tensorflow/stream_executor/platform/default/dso_loader.cc:64] Could not load dynamic library 'libcudart.so.11.0'; dlerror: libcudart.so.11.0: cannot open shared object file: No such file or directory; LD_LIBRARY_PATH: /usr/lib/x86_64-linux-gnu/::/usr/local/cuda-10.0/lib64\n",
      "2023-02-10 16:27:49.751966: I tensorflow/stream_executor/cuda/cudart_stub.cc:29] Ignore above cudart dlerror if you do not have a GPU set up on your machine.\n",
      "INFO flower 2023-02-10 16:27:50,858 | app.py:134 | Starting Flower server, config: ServerConfig(num_rounds=3, round_timeout=None)\n",
      "INFO flower 2023-02-10 16:27:50,864 | app.py:148 | Flower ECE: gRPC server running (3 rounds), SSL is disabled\n",
      "INFO flower 2023-02-10 16:27:50,864 | server.py:86 | Initializing global parameters\n",
      "INFO flower 2023-02-10 16:27:50,865 | server.py:270 | Requesting initial parameters from one random client\n",
      "INFO flower 2023-02-10 16:28:00,582 | server.py:274 | Received initial parameters from one random client\n",
      "INFO flower 2023-02-10 16:28:00,582 | server.py:88 | Evaluating initial parameters\n",
      "INFO flower 2023-02-10 16:28:00,583 | server.py:101 | FL starting\n",
      "DEBUG flower 2023-02-10 16:28:16,794 | server.py:220 | fit_round 1: strategy sampled 3 clients (out of 3)\n",
      "DEBUG flower 2023-02-10 16:28:39,882 | server.py:234 | fit_round 1 received 3 results and 0 failures\n",
      "WARNING flower 2023-02-10 16:28:39,898 | fault_tolerant_fedavg.py:114 | No fit_metrics_aggregation_fn provided\n",
      "DEBUG flower 2023-02-10 16:28:39,899 | server.py:170 | evaluate_round 1: strategy sampled 3 clients (out of 3)\n",
      "DEBUG flower 2023-02-10 16:29:04,956 | server.py:184 | evaluate_round 1 received 3 results and 0 failures\n",
      "WARNING flower 2023-02-10 16:29:04,957 | fault_tolerant_fedavg.py:147 | No evaluate_metrics_aggregation_fn provided\n",
      "DEBUG flower 2023-02-10 16:29:04,957 | server.py:220 | fit_round 2: strategy sampled 3 clients (out of 3)\n",
      "DEBUG flower 2023-02-10 16:29:29,302 | server.py:234 | fit_round 2 received 3 results and 0 failures\n",
      "DEBUG flower 2023-02-10 16:29:29,316 | server.py:170 | evaluate_round 2: strategy sampled 3 clients (out of 3)\n",
      "DEBUG flower 2023-02-10 16:29:54,371 | server.py:184 | evaluate_round 2 received 3 results and 0 failures\n",
      "DEBUG flower 2023-02-10 16:29:54,372 | server.py:220 | fit_round 3: strategy sampled 3 clients (out of 3)\n",
      "DEBUG flower 2023-02-10 16:30:18,985 | server.py:234 | fit_round 3 received 3 results and 0 failures\n",
      "DEBUG flower 2023-02-10 16:30:18,996 | server.py:170 | evaluate_round 3: strategy sampled 3 clients (out of 3)\n",
      "DEBUG flower 2023-02-10 16:30:44,013 | server.py:184 | evaluate_round 3 received 3 results and 0 failures\n",
      "INFO flower 2023-02-10 16:30:44,014 | server.py:144 | FL finished in 163.43121949100168\n",
      "INFO flower 2023-02-10 16:30:44,016 | app.py:192 | app_fit: losses_distributed [(1, 15.777148879831655), (2, 15.383663768259188), (3, 15.018723561118046)]\n",
      "INFO flower 2023-02-10 16:30:44,017 | app.py:193 | app_fit: metrics_distributed {}\n",
      "INFO flower 2023-02-10 16:30:44,018 | app.py:194 | app_fit: losses_centralized []\n",
      "INFO flower 2023-02-10 16:30:44,019 | app.py:195 | app_fit: metrics_centralized {}\n"
     ]
    }
   ],
   "source": [
    "from typing import Callable\n",
    "from typing import Dict\n",
    "import flwr as fl\n",
    "from keras.models import Sequential\n",
    "from keras.layers import Dense, Flatten, Conv2D, MaxPool2D, Dropout\n",
    "import numpy as np\n",
    "import os\n",
    "\n",
    "\n",
    "\n",
    "def get_on_fit_config_fn() -> Callable[[int], Dict[str, str]]:\n",
    "    def fit_config(rnd: int) -> Dict[str, str]:\n",
    "        config = {\n",
    "            \"learning_rate\": str(0.001),\n",
    "            \"batch_size\": 32,\n",
    "        }\n",
    "        return config\n",
    "    return fit_config\n",
    "\n",
    "\n",
    "if __name__ == \"__main__\":\n",
    "\n",
    "    strategy = fl.server.strategy.FaultTolerantFedAvg(\n",
    "        fraction_fit=0.1,\n",
    "        min_available_clients=3,  \n",
    "        min_fit_clients=3,\n",
    "        min_evaluate_clients=3,\n",
    "        on_fit_config_fn=get_on_fit_config_fn(),\n",
    "    )\n",
    "\n",
    "    fl.server.start_server(\n",
    "        server_address=\"0.0.0.0:8080\",\n",
    "        config=fl.server.ServerConfig(num_rounds=3),\n",
    "        strategy=strategy,\n",
    "    )"
   ]
  }
 ],
 "metadata": {
  "kernelspec": {
   "display_name": "daniel_flower",
   "language": "python",
   "name": "daniel_flower"
  },
  "language_info": {
   "codemirror_mode": {
    "name": "ipython",
    "version": 3
   },
   "file_extension": ".py",
   "mimetype": "text/x-python",
   "name": "python",
   "nbconvert_exporter": "python",
   "pygments_lexer": "ipython3",
   "version": "3.7.12"
  }
 },
 "nbformat": 4,
 "nbformat_minor": 5
}
