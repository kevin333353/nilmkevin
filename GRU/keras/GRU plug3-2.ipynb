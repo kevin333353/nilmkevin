{
 "cells": [
  {
   "cell_type": "code",
   "execution_count": 1,
   "id": "7bcb2e69",
   "metadata": {},
   "outputs": [
    {
     "name": "stderr",
     "output_type": "stream",
     "text": [
      "Using TensorFlow backend.\n"
     ]
    }
   ],
   "source": [
    "import numpy as np\n",
    "import pandas as pd\n",
    "import matplotlib.pyplot as plt\n",
    "%matplotlib inline\n",
    "from IPython.display import display\n",
    "import datetime\n",
    "import time\n",
    "import math\n",
    "import warnings\n",
    "warnings.filterwarnings(\"ignore\")\n",
    "import glob\n",
    "\n",
    "import pandas as pd\n",
    "import numpy as np\n",
    "import keras\n",
    "import tensorflow as tf\n",
    "from keras.preprocessing.sequence import TimeseriesGenerator\n",
    "\n",
    "import os\n",
    "import pandas as pd\n",
    "import numpy as np\n",
    "np.random.seed(1337)\n",
    "from io import StringIO\n",
    "import requests, zipfile\n",
    "from IPython.display import Image\n",
    "import matplotlib as mpl\n",
    "import matplotlib.pyplot as plt\n",
    "from pandas import read_csv\n",
    "from sklearn.metrics import mean_squared_error\n",
    "from keras.models import Sequential\n",
    "from keras.layers.core import Dense, Activation,Dropout\n",
    "from keras.layers import Dense, Input, GlobalMaxPooling1D,Flatten\n",
    "from keras.layers import Conv1D, MaxPooling1D, Embedding, SimpleRNN,LSTM,GRU,Bidirectional\n",
    "from keras.models import Model\n",
    "from keras.layers import TimeDistributed\n",
    "from keras import optimizers\n",
    "from keras.wrappers.scikit_learn import KerasRegressor\n",
    "from sklearn.model_selection import cross_val_score\n",
    "from sklearn.pipeline import Pipeline\n",
    "from sklearn.preprocessing import MinMaxScaler\n",
    "pd.set_option('display.float_format', lambda x: '%.3f' % x)\n",
    "pd.options.display.max_rows=50\n",
    "from sklearn.metrics import confusion_matrix, recall_score, precision_score,f1_score\n",
    "from sklearn.metrics import mean_squared_error #MSE\n",
    "from sklearn.metrics import mean_absolute_error #MAE\n",
    "from sklearn.metrics import r2_score#R 2\n",
    "from keras.layers import Average\n",
    "from keras_self_attention import SeqSelfAttention\n",
    "from keras.layers.core import Layer   \n",
    "from keras import backend as K \n",
    "from keras.layers import Reshape, RepeatVector,Permute, merge,Lambda\n",
    "import numpy\n",
    "from sklearn.model_selection import StratifiedKFold\n",
    "from sklearn import metrics\n",
    "from keras import backend as K\n",
    "import pandas as pd\n",
    "import numpy as np\n",
    "import keras\n",
    "import tensorflow as tf\n",
    "from keras.preprocessing.sequence import TimeseriesGenerator\n",
    "keras.backend.set_epsilon(1)\n",
    "import time\n",
    "from keras.models import load_model"
   ]
  },
  {
   "cell_type": "code",
   "execution_count": 2,
   "id": "0446b783",
   "metadata": {},
   "outputs": [],
   "source": [
    "aggregate_df1 = pd.read_csv('/home/awinlab/Documents/kevin/elec220.csv',index_col='datetime',parse_dates=True)\n",
    "aggregate_df1 = aggregate_df1[:900000]\n",
    "training_size = int(len(aggregate_df1) * 0.8)\n",
    "aggregate_df_train = aggregate_df1[training_size:]\n",
    "aggregate_df_test = aggregate_df1[:training_size]\n",
    "\n",
    "plug1_1 = pd.read_csv('/home/awinlab/Documents/kevin/plug3-2.csv',index_col='datetime',parse_dates=True)\n",
    "plug1_1 = plug1_1[:900000]\n",
    "plug1_1_train = plug1_1[training_size:]\n",
    "plug1_1_test =  plug1_1[:training_size]\n",
    "\n",
    "X_train = aggregate_df_train.drop(['device', 'vo', 'cu', 'reactive', 'apparent', 'pf', 'freq'],axis=1)\n",
    "X_test = aggregate_df_test.drop(['device', 'vo', 'cu', 'reactive', 'apparent', 'pf', 'freq'],axis=1)\n",
    "y_train = plug1_1_train.drop(['device', 'vo', 'cu', 'reactive', 'apparent', 'pf', 'freq'],axis=1)\n",
    "y_test = plug1_1_test.drop(['device', 'vo', 'cu', 'reactive', 'apparent', 'pf', 'freq'],axis=1)\n",
    "\n",
    "X_train = X_train.values\n",
    "X_test = X_test.values\n",
    "y_train = y_train.values\n",
    "y_test = y_test.values"
   ]
  },
  {
   "cell_type": "code",
   "execution_count": 3,
   "id": "1bc7e807",
   "metadata": {},
   "outputs": [],
   "source": [
    "in_seq = X_train.reshape((len(X_train), 1))\n",
    "out_seq = y_train.reshape((len(y_train), 1))\n",
    "\n",
    "n_input = 100\n",
    "nb_out = 100\n",
    "train_generator = TimeseriesGenerator(in_seq, out_seq, length=n_input, batch_size=60)\n",
    "\n",
    "nb_features = 1\n",
    "input_shape=(n_input, nb_features)\n",
    "model_input = Input(shape=input_shape)\n",
    "\n",
    "def rete(y_true, y_pred):\n",
    "        #Lambda(lambda x: x[0]/x[1])([K.abs(y_pred - y_true),K.maximum(y_pred, y_true)])\n",
    "        return (K.abs(y_pred - y_true) / K.maximum(y_pred, y_true))"
   ]
  },
  {
   "cell_type": "code",
   "execution_count": 4,
   "id": "77a0a2ca",
   "metadata": {},
   "outputs": [],
   "source": [
    "x = Conv1D(16, 4, activation=\"relu\", padding=\"same\", strides=1, input_shape=input_shape)(model_input)\n",
    "x = (Conv1D(8, 4, activation=\"relu\", padding=\"same\", strides=1))(x)\n",
    "x = (Bidirectional(GRU(64, return_sequences=True, stateful=False), merge_mode='concat'))(x)\n",
    "x = (Bidirectional(GRU(128, return_sequences=False, stateful=False), merge_mode='concat'))(x)\n",
    "x = (Dense(64, activation='relu'))(x)\n",
    "x = (Dense(1, activation='linear'))(x)\n",
    "model = keras.Model(model_input, x)\n",
    "adam = keras.optimizers.Adam(lr=0.0001, beta_1=0.9, beta_2=0.999, epsilon=1e-08)\n",
    "model.compile(loss='mse', optimizer=adam,metrics=['mae',rete]) "
   ]
  },
  {
   "cell_type": "code",
   "execution_count": 5,
   "id": "9dc98260",
   "metadata": {},
   "outputs": [
    {
     "name": "stderr",
     "output_type": "stream",
     "text": [
      "2022-12-14 20:04:25.742611: I tensorflow/core/platform/cpu_feature_guard.cc:142] Your CPU supports instructions that this TensorFlow binary was not compiled to use: AVX2 AVX512F FMA\n",
      "2022-12-14 20:04:25.762825: I tensorflow/core/platform/profile_utils/cpu_utils.cc:94] CPU Frequency: 3499910000 Hz\n",
      "2022-12-14 20:04:25.763424: I tensorflow/compiler/xla/service/service.cc:168] XLA service 0x55e0f52241e0 executing computations on platform Host. Devices:\n",
      "2022-12-14 20:04:25.763469: I tensorflow/compiler/xla/service/service.cc:175]   StreamExecutor device (0): <undefined>, <undefined>\n",
      "2022-12-14 20:04:25.908069: W tensorflow/compiler/jit/mark_for_compilation_pass.cc:1412] (One-time warning): Not using XLA:CPU for cluster because envvar TF_XLA_FLAGS=--tf_xla_cpu_global_jit was not set.  If you want XLA:CPU, either set that envvar, or use experimental_jit_scope to enable XLA:CPU.  To confirm that XLA is active, pass --vmodule=xla_compilation_cache=1 (as a proper command-line flag, not via TF_XLA_FLAGS) or set the envvar XLA_FLAGS=--xla_hlo_profile.\n"
     ]
    },
    {
     "name": "stdout",
     "output_type": "stream",
     "text": [
      "WARNING:tensorflow:From /home/awinlab/anaconda3/envs/nilmtk_second_project/lib/python3.7/site-packages/keras/backend/tensorflow_backend.py:422: The name tf.global_variables is deprecated. Please use tf.compat.v1.global_variables instead.\n",
      "\n",
      "Epoch 1/5\n",
      "2999/2999 [==============================] - 391s 130ms/step - loss: 0.1164 - mae: 0.0873 - rete: 0.0217\n",
      "Epoch 2/5\n",
      "2999/2999 [==============================] - 390s 130ms/step - loss: 0.0156 - mae: 0.0491 - rete: 0.0122\n",
      "Epoch 3/5\n",
      "2999/2999 [==============================] - 390s 130ms/step - loss: 0.0147 - mae: 0.0438 - rete: 0.0109\n",
      "Epoch 4/5\n",
      "2999/2999 [==============================] - 390s 130ms/step - loss: 0.0149 - mae: 0.0421 - rete: 0.0105\n",
      "Epoch 5/5\n",
      "2999/2999 [==============================] - 390s 130ms/step - loss: 0.0145 - mae: 0.0399 - rete: 0.0100\n"
     ]
    }
   ],
   "source": [
    "start = time.time()\n",
    "model.fit_generator(train_generator, epochs=5, verbose=1)\n",
    "end = time.time()"
   ]
  },
  {
   "cell_type": "code",
   "execution_count": 6,
   "id": "63eeb3be",
   "metadata": {},
   "outputs": [
    {
     "data": {
      "text/plain": [
       "[0.0005285912193357944, 0.9438552260398865, 0.23596405982971191]"
      ]
     },
     "execution_count": 6,
     "metadata": {},
     "output_type": "execute_result"
    }
   ],
   "source": [
    "model.save(\"GRUmodel-sensor-plug3-2.h5\")\n",
    "in_seq_test = X_test.reshape((len(X_test), 1))\n",
    "out_seq_test = y_test.reshape((len(y_test), 1))\n",
    "test_generator = TimeseriesGenerator(in_seq_test, out_seq_test, length=100, batch_size=60)\n",
    "scores_test = model.evaluate_generator(test_generator)\n",
    "scores_test"
   ]
  },
  {
   "cell_type": "code",
   "execution_count": 7,
   "id": "30acc412",
   "metadata": {},
   "outputs": [
    {
     "data": {
      "image/png": "[encoded data removed]",
      "text/plain": [
       "<Figure size 640x480 with 1 Axes>"
      ]
     },
     "metadata": {},
     "output_type": "display_data"
    }
   ],
   "source": [
    "predict = model.predict_generator(test_generator)\n",
    "\n",
    "plt.plot(y_test)\n",
    "plt.plot(predict)\n",
    "plt.xlabel('Time')\n",
    "plt.ylabel(\"W\")\n",
    "\n",
    "plt.show()"
   ]
  }
 ],
 "metadata": {
  "kernelspec": {
   "display_name": "nilm_second_project",
   "language": "python",
   "name": "nilm_second_project"
  },
  "language_info": {
   "codemirror_mode": {
    "name": "ipython",
    "version": 3
   },
   "file_extension": ".py",
   "mimetype": "text/x-python",
   "name": "python",
   "nbconvert_exporter": "python",
   "pygments_lexer": "ipython3",
   "version": "3.7.12"
  }
 },
 "nbformat": 4,
 "nbformat_minor": 5
}
