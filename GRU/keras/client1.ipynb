{
 "cells": [
  {
   "cell_type": "code",
   "execution_count": 5,
   "id": "af41cdec",
   "metadata": {},
   "outputs": [
    {
     "name": "stderr",
     "output_type": "stream",
     "text": [
      "INFO flower 2022-12-22 00:50:50,585 | grpc.py:50 | Opened insecure gRPC connection (no certificates were passed)\n",
      "DEBUG flower 2022-12-22 00:50:50,586 | connection.py:38 | ChannelConnectivity.IDLE\n",
      "DEBUG flower 2022-12-22 00:50:50,587 | connection.py:38 | ChannelConnectivity.CONNECTING\n",
      "DEBUG flower 2022-12-22 00:50:50,588 | connection.py:38 | ChannelConnectivity.READY\n"
     ]
    },
    {
     "name": "stdout",
     "output_type": "stream",
     "text": [
      "3332/3332 [==============================] - 837s 250ms/step - loss: 0.8707 - mae: 0.2015\n",
      "3332/3332 [==============================] - 834s 250ms/step - loss: 0.0532 - mae: 0.0771\n",
      "3332/3332 [==============================] - 834s 250ms/step - loss: 0.0530 - mae: 0.0727\n"
     ]
    },
    {
     "name": "stderr",
     "output_type": "stream",
     "text": [
      "DEBUG flower 2022-12-22 02:15:42,860 | connection.py:109 | gRPC channel closed\n",
      "INFO flower 2022-12-22 02:15:42,861 | app.py:149 | Disconnect and shut down\n"
     ]
    },
    {
     "data": {
      "image/png": "[encoded data removed]",
      "text/plain": [
       "<Figure size 432x288 with 1 Axes>"
      ]
     },
     "metadata": {
      "needs_background": "light"
     },
     "output_type": "display_data"
    }
   ],
   "source": [
    "import flwr as fl\n",
    "\n",
    "\n",
    "import warnings\n",
    "warnings.filterwarnings(\"ignore\")\n",
    "\n",
    "import pandas as pd\n",
    "import numpy as np\n",
    "np.random.seed(1337)\n",
    "import matplotlib.pyplot as plt\n",
    "from keras.layers.core import Dropout\n",
    "from keras.layers import Dense, Input,Flatten\n",
    "from keras.layers import Conv1D\n",
    "from tensorflow import keras\n",
    "from keras import optimizers\n",
    "from keras.layers import Conv1D, MaxPooling1D, Embedding, SimpleRNN,LSTM,GRU,Bidirectional\n",
    "\n",
    "pd.set_option('display.float_format', lambda x: '%.3f' % x)\n",
    "pd.options.display.max_rows=50\n",
    "\n",
    "from keras.layers import Reshape\n",
    "\n",
    "from keras import backend as K\n",
    "import pandas as pd\n",
    "import keras\n",
    "from keras.preprocessing.sequence import TimeseriesGenerator\n",
    "keras.backend.set_epsilon(1)\n",
    "\n",
    "aggregate_df1 = pd.read_csv('/home/awinlab/Documents/kevin/elec110.csv',index_col='datetime',parse_dates=True)\n",
    "aggregate_df1 = aggregate_df1[:1000000]\n",
    "training_size = int(len(aggregate_df1) * 0.8)\n",
    "aggregate_df_train = aggregate_df1[training_size:]\n",
    "aggregate_df_test = aggregate_df1[:training_size]\n",
    "\n",
    "plug1_1 = pd.read_csv('/home/awinlab/Documents/kevin/plug1-1.csv',index_col='datetime',parse_dates=True)\n",
    "plug1_1 = plug1_1[:1000000]\n",
    "plug1_1_train = plug1_1[training_size:]\n",
    "plug1_1_test =  plug1_1[:training_size]\n",
    "\n",
    "X_train = aggregate_df_train.drop(['device', 'vo', 'cu', 'reactive', 'apparent', 'pf', 'freq'],axis=1)\n",
    "X_test = aggregate_df_test.drop(['device', 'vo', 'cu', 'reactive', 'apparent', 'pf', 'freq'],axis=1)\n",
    "y_train = plug1_1_train.drop(['device', 'vo', 'cu', 'reactive', 'apparent', 'pf', 'freq'],axis=1)\n",
    "y_test = plug1_1_test.drop(['device', 'vo', 'cu', 'reactive', 'apparent', 'pf', 'freq'],axis=1)\n",
    "\n",
    "X_train = X_train.values\n",
    "X_test = X_test.values\n",
    "y_train = y_train.values\n",
    "y_test = y_test.values\n",
    "\n",
    "in_seq = X_train.reshape((len(X_train), 1))\n",
    "out_seq = y_train.reshape((len(y_train), 1))\n",
    "\n",
    "n_input = 100\n",
    "nb_out = 100\n",
    "train_generator = TimeseriesGenerator(in_seq, out_seq, length=n_input, batch_size=60)\n",
    "\n",
    "in_seq_test = X_test.reshape((len(X_test), 1))\n",
    "out_seq_test = y_test.reshape((len(y_test), 1))\n",
    "\n",
    "test_generator = TimeseriesGenerator(in_seq_test, out_seq_test, length=100, batch_size=60)\n",
    "\n",
    "\n",
    "def rete(y_true, y_pred):\n",
    "      # Lambda(lambda x: x[0]/x[1])([K.abs(y_pred - y_true),K.maximum(y_pred, y_true)])\n",
    "    return (K.abs(y_pred - y_true) / K.maximum(y_pred, y_true))\n",
    "\n",
    "nb_features = 1\n",
    "input_shape=(n_input, nb_features)\n",
    "model_input = Input(shape=input_shape)\n",
    "\n",
    "x = Conv1D(16, 4, activation=\"relu\", padding=\"same\", strides=1, input_shape=input_shape)(model_input)\n",
    "x = (Conv1D(8, 4, activation=\"relu\", padding=\"same\", strides=1))(x)\n",
    "x = (Bidirectional(GRU(64, return_sequences=True, stateful=False), merge_mode='concat'))(x)\n",
    "x = (Bidirectional(GRU(128, return_sequences=False, stateful=False), merge_mode='concat'))(x)\n",
    "x = (Dense(64, activation='relu'))(x)\n",
    "x = (Dense(1, activation='linear'))(x)\n",
    "model = keras.Model(model_input, x)\n",
    "\n",
    "adam = keras.optimizers.adam_v2.Adam(lr=0.0001, beta_1=0.9, beta_2=0.999, epsilon=1e-08)\n",
    "model.compile(loss='mse', optimizer=adam,metrics=['mae'])\n",
    "\n",
    "# Define Flower client\n",
    "class CifarClient(fl.client.NumPyClient):\n",
    "    def get_parameters(self, config):\n",
    "        return model.get_weights()\n",
    "\n",
    "    def fit(self, parameters, config):\n",
    "        model.set_weights(parameters)\n",
    "        model.fit_generator(train_generator, epochs=1, verbose=1)\n",
    "        return model.get_weights(), len(X_train), {}\n",
    "\n",
    "    def evaluate(self, parameters, config):\n",
    "        model.set_weights(parameters)\n",
    "        loss, accuracy = model.evaluate_generator(test_generator)\n",
    "    \n",
    "        return loss, len(X_test), {\"accuracy\": accuracy}\n",
    "\n",
    "# Start Flower client\n",
    "fl.client.start_numpy_client(server_address=\"127.0.0.1:8080\", client=CifarClient())\n",
    "\n",
    "predict = model.predict_generator(test_generator)\n",
    "plt.plot(y_test)\n",
    "plt.plot(predict)\n",
    "plt.xlabel('Time')  \n",
    "plt.ylabel(\"W\")\n",
    "plt.title(\"GRUplug1-1\")\n",
    "plt.show()"
   ]
  }
 ],
 "metadata": {
  "kernelspec": {
   "display_name": "daniel_flower",
   "language": "python",
   "name": "daniel_flower"
  },
  "language_info": {
   "codemirror_mode": {
    "name": "ipython",
    "version": 3
   },
   "file_extension": ".py",
   "mimetype": "text/x-python",
   "name": "python",
   "nbconvert_exporter": "python",
   "pygments_lexer": "ipython3",
   "version": "3.7.12"
  }
 },
 "nbformat": 4,
 "nbformat_minor": 5
}
