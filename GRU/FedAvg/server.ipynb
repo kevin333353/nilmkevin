{
 "cells": [
  {
   "cell_type": "code",
   "execution_count": 1,
   "id": "58ba5785",
   "metadata": {},
   "outputs": [
    {
     "name": "stderr",
     "output_type": "stream",
     "text": [
      "2023-03-11 18:51:02.009659: W tensorflow/stream_executor/platform/default/dso_loader.cc:64] Could not load dynamic library 'libcudart.so.11.0'; dlerror: libcudart.so.11.0: cannot open shared object file: No such file or directory; LD_LIBRARY_PATH: /usr/lib/x86_64-linux-gnu/::/usr/local/cuda-10.0/lib64\n",
      "2023-03-11 18:51:02.009685: I tensorflow/stream_executor/cuda/cudart_stub.cc:29] Ignore above cudart dlerror if you do not have a GPU set up on your machine.\n",
      "INFO flower 2023-03-11 18:51:03,618 | app.py:134 | Starting Flower server, config: ServerConfig(num_rounds=3, round_timeout=None)\n",
      "INFO flower 2023-03-11 18:51:03,624 | app.py:148 | Flower ECE: gRPC server running (3 rounds), SSL is disabled\n",
      "INFO flower 2023-03-11 18:51:03,625 | server.py:86 | Initializing global parameters\n",
      "INFO flower 2023-03-11 18:51:03,626 | server.py:270 | Requesting initial parameters from one random client\n",
      "INFO flower 2023-03-11 18:51:20,562 | server.py:274 | Received initial parameters from one random client\n",
      "INFO flower 2023-03-11 18:51:20,563 | server.py:88 | Evaluating initial parameters\n",
      "INFO flower 2023-03-11 18:51:20,564 | server.py:101 | FL starting\n",
      "DEBUG flower 2023-03-11 18:51:58,759 | server.py:220 | fit_round 1: strategy sampled 3 clients (out of 3)\n",
      "DEBUG flower 2023-03-11 18:55:48,922 | server.py:234 | fit_round 1 received 3 results and 0 failures\n",
      "WARNING flower 2023-03-11 18:55:48,949 | fedavg.py:242 | No fit_metrics_aggregation_fn provided\n",
      "DEBUG flower 2023-03-11 18:55:48,950 | server.py:170 | evaluate_round 1: strategy sampled 3 clients (out of 3)\n",
      "DEBUG flower 2023-03-11 18:56:10,776 | server.py:184 | evaluate_round 1 received 3 results and 0 failures\n",
      "WARNING flower 2023-03-11 18:56:10,777 | fedavg.py:273 | No evaluate_metrics_aggregation_fn provided\n",
      "DEBUG flower 2023-03-11 18:56:10,777 | server.py:220 | fit_round 2: strategy sampled 3 clients (out of 3)\n",
      "DEBUG flower 2023-03-11 19:00:01,457 | server.py:234 | fit_round 2 received 3 results and 0 failures\n",
      "DEBUG flower 2023-03-11 19:00:01,480 | server.py:170 | evaluate_round 2: strategy sampled 3 clients (out of 3)\n",
      "DEBUG flower 2023-03-11 19:00:23,297 | server.py:184 | evaluate_round 2 received 3 results and 0 failures\n",
      "DEBUG flower 2023-03-11 19:00:23,298 | server.py:220 | fit_round 3: strategy sampled 3 clients (out of 3)\n",
      "DEBUG flower 2023-03-11 19:04:13,632 | server.py:234 | fit_round 3 received 3 results and 0 failures\n",
      "DEBUG flower 2023-03-11 19:04:13,661 | server.py:170 | evaluate_round 3: strategy sampled 3 clients (out of 3)\n",
      "DEBUG flower 2023-03-11 19:04:35,497 | server.py:184 | evaluate_round 3 received 3 results and 0 failures\n",
      "INFO flower 2023-03-11 19:04:35,498 | server.py:144 | FL finished in 794.9337101340061\n",
      "INFO flower 2023-03-11 19:04:35,499 | app.py:192 | app_fit: losses_distributed [(1, 0.11429686664985184), (2, 0.1143108331604831), (3, 0.11425178927681165)]\n",
      "INFO flower 2023-03-11 19:04:35,500 | app.py:193 | app_fit: metrics_distributed {}\n",
      "INFO flower 2023-03-11 19:04:35,501 | app.py:194 | app_fit: losses_centralized []\n",
      "INFO flower 2023-03-11 19:04:35,502 | app.py:195 | app_fit: metrics_centralized {}\n"
     ]
    }
   ],
   "source": [
    "from typing import Callable\n",
    "from typing import Dict\n",
    "import flwr as fl\n",
    "from keras.models import Sequential\n",
    "from keras.layers import Dense, Flatten, Conv2D, MaxPool2D, Dropout\n",
    "import numpy as np\n",
    "import os\n",
    "\n",
    "\n",
    "\n",
    "def get_on_fit_config_fn() -> Callable[[int], Dict[str, str]]:\n",
    "    def fit_config(rnd: int) -> Dict[str, str]:\n",
    "        config = {\n",
    "            \"learning_rate\": str(0.001),\n",
    "            \"batch_size\": 32,\n",
    "        }\n",
    "        return config\n",
    "    return fit_config\n",
    "\n",
    "\n",
    "if __name__ == \"__main__\":\n",
    "\n",
    "    strategy = fl.server.strategy.FedAvg(\n",
    "        fraction_fit=0.1,\n",
    "        min_available_clients=3,  \n",
    "        min_fit_clients=3,\n",
    "        min_evaluate_clients=3,\n",
    "        on_fit_config_fn=get_on_fit_config_fn(),\n",
    "    )\n",
    "\n",
    "    fl.server.start_server(\n",
    "        server_address=\"0.0.0.0:8080\",\n",
    "        config=fl.server.ServerConfig(num_rounds=3),\n",
    "        strategy=strategy,\n",
    "    )"
   ]
  }
 ],
 "metadata": {
  "kernelspec": {
   "display_name": "daniel_flower",
   "language": "python",
   "name": "daniel_flower"
  },
  "language_info": {
   "codemirror_mode": {
    "name": "ipython",
    "version": 3
   },
   "file_extension": ".py",
   "mimetype": "text/x-python",
   "name": "python",
   "nbconvert_exporter": "python",
   "pygments_lexer": "ipython3",
   "version": "3.7.12"
  }
 },
 "nbformat": 4,
 "nbformat_minor": 5
}
