{
 "cells": [
  {
   "cell_type": "code",
   "execution_count": 1,
   "id": "55d0eb76",
   "metadata": {},
   "outputs": [
    {
     "name": "stderr",
     "output_type": "stream",
     "text": [
      "/home/awinlab/anaconda3/envs/daniel_flower/lib/python3.7/site-packages/tqdm/auto.py:22: TqdmWarning: IProgress not found. Please update jupyter and ipywidgets. See https://ipywidgets.readthedocs.io/en/stable/user_install.html\n",
      "  from .autonotebook import tqdm as notebook_tqdm\n",
      "INFO flower 2023-03-17 08:51:50,595 | app.py:134 | Starting Flower server, config: ServerConfig(num_rounds=3, round_timeout=None)\n",
      "INFO flower 2023-03-17 08:51:50,601 | app.py:148 | Flower ECE: gRPC server running (3 rounds), SSL is disabled\n",
      "INFO flower 2023-03-17 08:51:50,602 | server.py:86 | Initializing global parameters\n",
      "INFO flower 2023-03-17 08:51:50,603 | server.py:270 | Requesting initial parameters from one random client\n",
      "INFO flower 2023-03-17 08:52:42,015 | server.py:274 | Received initial parameters from one random client\n",
      "INFO flower 2023-03-17 08:52:42,016 | server.py:88 | Evaluating initial parameters\n",
      "INFO flower 2023-03-17 08:52:42,016 | server.py:101 | FL starting\n",
      "DEBUG flower 2023-03-17 08:52:46,303 | server.py:220 | fit_round 1: strategy sampled 3 clients (out of 3)\n",
      "DEBUG flower 2023-03-17 08:56:37,412 | server.py:234 | fit_round 1 received 3 results and 0 failures\n",
      "WARNING flower 2023-03-17 08:56:37,507 | fedavg.py:242 | No fit_metrics_aggregation_fn provided\n",
      "DEBUG flower 2023-03-17 08:56:37,508 | server.py:170 | evaluate_round 1: strategy sampled 3 clients (out of 3)\n",
      "DEBUG flower 2023-03-17 08:56:59,472 | server.py:184 | evaluate_round 1 received 3 results and 0 failures\n",
      "WARNING flower 2023-03-17 08:56:59,473 | fedavg.py:273 | No evaluate_metrics_aggregation_fn provided\n",
      "DEBUG flower 2023-03-17 08:56:59,474 | server.py:220 | fit_round 2: strategy sampled 3 clients (out of 3)\n",
      "DEBUG flower 2023-03-17 09:00:52,146 | server.py:234 | fit_round 2 received 3 results and 0 failures\n",
      "DEBUG flower 2023-03-17 09:00:52,237 | server.py:170 | evaluate_round 2: strategy sampled 3 clients (out of 3)\n",
      "DEBUG flower 2023-03-17 09:01:14,252 | server.py:184 | evaluate_round 2 received 3 results and 0 failures\n",
      "DEBUG flower 2023-03-17 09:01:14,253 | server.py:220 | fit_round 3: strategy sampled 3 clients (out of 3)\n",
      "DEBUG flower 2023-03-17 09:05:06,538 | server.py:234 | fit_round 3 received 3 results and 0 failures\n",
      "DEBUG flower 2023-03-17 09:05:06,629 | server.py:170 | evaluate_round 3: strategy sampled 3 clients (out of 3)\n",
      "DEBUG flower 2023-03-17 09:05:28,632 | server.py:184 | evaluate_round 3 received 3 results and 0 failures\n",
      "INFO flower 2023-03-17 09:05:28,633 | server.py:144 | FL finished in 766.6165691909846\n",
      "INFO flower 2023-03-17 09:05:28,634 | app.py:192 | app_fit: losses_distributed [(1, 0.11502762165036984), (2, 0.11770434790976479), (3, 0.11432697354747595)]\n",
      "INFO flower 2023-03-17 09:05:28,635 | app.py:193 | app_fit: metrics_distributed {}\n",
      "INFO flower 2023-03-17 09:05:28,636 | app.py:194 | app_fit: losses_centralized []\n",
      "INFO flower 2023-03-17 09:05:28,636 | app.py:195 | app_fit: metrics_centralized {}\n"
     ]
    },
    {
     "data": {
      "text/plain": [
       "History (loss, distributed):\n",
       "\tround 1: 0.11502762165036984\n",
       "\tround 2: 0.11770434790976479\n",
       "\tround 3: 0.11432697354747595"
      ]
     },
     "execution_count": 1,
     "metadata": {},
     "output_type": "execute_result"
    }
   ],
   "source": [
    "from typing import Callable, Dict\n",
    "import flwr as fl\n",
    "import torch.nn.functional as F\n",
    "import torch.nn as nn\n",
    "\n",
    "\n",
    "def get_on_fit_config_fn() -> Callable[[int], Dict[str, str]]:\n",
    "    def fit_config(rnd: int) -> Dict[str, str]:\n",
    "        config = {\n",
    "            \"learning_rate\": str(0.001),\n",
    "            \"batch_size\": 32,\n",
    "        }\n",
    "        return config\n",
    "    return fit_config\n",
    "\n",
    "\n",
    "strategy_avg = fl.server.strategy.FedAvg(\n",
    "    fraction_fit=1,\n",
    "    fraction_evaluate=1,\n",
    "    min_fit_clients=3,\n",
    "    min_evaluate_clients=3,\n",
    "    min_available_clients=3\n",
    ")\n",
    "\n",
    "strategy = fl.server.strategy.DPFedAvgFixed(strategy_avg, 3, clip_norm = 0.01, noise_multiplier = 0.01, server_side_noising = True)\n",
    "\n",
    "\n",
    "\n",
    "fl.server.start_server(\n",
    "        server_address=\"0.0.0.0:8080\",\n",
    "        config=fl.server.ServerConfig(num_rounds=3),\n",
    "        strategy=strategy,\n",
    "    )\n"
   ]
  },
  {
   "cell_type": "code",
   "execution_count": null,
   "id": "1d24c3de",
   "metadata": {},
   "outputs": [],
   "source": []
  }
 ],
 "metadata": {
  "kernelspec": {
   "display_name": "daniel_flower",
   "language": "python",
   "name": "daniel_flower"
  },
  "language_info": {
   "codemirror_mode": {
    "name": "ipython",
    "version": 3
   },
   "file_extension": ".py",
   "mimetype": "text/x-python",
   "name": "python",
   "nbconvert_exporter": "python",
   "pygments_lexer": "ipython3",
   "version": "3.7.12"
  }
 },
 "nbformat": 4,
 "nbformat_minor": 5
}
