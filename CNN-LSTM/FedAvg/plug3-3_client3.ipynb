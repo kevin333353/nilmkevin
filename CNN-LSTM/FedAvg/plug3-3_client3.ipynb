{
 "cells": [
  {
   "cell_type": "code",
   "execution_count": 1,
   "id": "f4b98b59",
   "metadata": {},
   "outputs": [
    {
     "name": "stderr",
     "output_type": "stream",
     "text": [
      "/home/awinlab/anaconda3/envs/daniel_flower/lib/python3.7/site-packages/tqdm/auto.py:22: TqdmWarning: IProgress not found. Please update jupyter and ipywidgets. See https://ipywidgets.readthedocs.io/en/stable/user_install.html\n",
      "  from .autonotebook import tqdm as notebook_tqdm\n"
     ]
    }
   ],
   "source": [
    "from collections import OrderedDict\n",
    "import warnings\n",
    "\n",
    "import flwr as fl\n",
    "import torch\n",
    "import torch.nn as nn\n",
    "import torch.nn.functional as F\n",
    "import os\n",
    "import pandas as pd\n",
    "import numpy as np\n",
    "import torch\n",
    "import torch.nn as nn\n",
    "import torch.optim as optim\n",
    "from sklearn.metrics import mean_squared_error, mean_absolute_error, r2_score\n",
    "from sklearn.model_selection import StratifiedKFold\n",
    "from sklearn import metrics\n",
    "from torch.utils.data import DataLoader, TensorDataset\n",
    "\n",
    "np.random.seed(1337)\n",
    "\n",
    "# Load and process the data\n",
    "aggregate_df1 = pd.read_csv('/home/awinlab/Documents/kevin/elec220.csv', index_col='datetime', parse_dates=True)\n",
    "aggregate_df1 = aggregate_df1[:1000000]\n",
    "\n",
    "plug1_1 = pd.read_csv('/home/awinlab/Documents/kevin/plug3-3.csv', index_col='datetime', parse_dates=True)\n",
    "plug1_1 = plug1_1[:1000000]\n",
    "\n",
    "aggregate_df1 = aggregate_df1.drop(['device', 'vo', 'cu', 'reactive', 'apparent', 'pf', 'freq'], axis=1)\n",
    "plug1_1 = plug1_1.drop(['device', 'vo', 'cu', 'reactive', 'apparent', 'pf', 'freq'], axis=1)\n",
    "\n",
    "class TimeSeriesDataset(torch.utils.data.Dataset):\n",
    "    def __init__(self, X, y, length=100):\n",
    "        self.X = X\n",
    "        self.y = y\n",
    "        self.length = length\n",
    "\n",
    "    def __len__(self):\n",
    "        return len(self.X) - self.length\n",
    "\n",
    "    def __getitem__(self, idx):\n",
    "        X = self.X[idx: idx + self.length]\n",
    "        y = self.y[idx: idx + self.length]\n",
    "        return X, y\n",
    "\n",
    "mask = [i % 5 != 0 for i in range(len(aggregate_df1))]\n",
    "X_test = aggregate_df1[~np.array(mask)]\n",
    "X_train = aggregate_df1[mask]\n",
    "\n",
    "\n",
    "\n",
    "mask1 = [i % 5 != 0 for i in range(len(plug1_1))]\n",
    "y_test = plug1_1[~np.array(mask1)]\n",
    "y_train = plug1_1[mask1]\n",
    "\n",
    "X_train = pd.DataFrame(X_train)\n",
    "X_test = pd.DataFrame(X_test)\n",
    "y_train = pd.DataFrame(y_train)\n",
    "y_test = pd.DataFrame(y_test)\n",
    "\n",
    "X_train = torch.tensor(X_train.values).float()\n",
    "X_test = torch.tensor(X_test.values).float()\n",
    "y_train = torch.tensor(y_train.values).float()\n",
    "y_test = torch.tensor(y_test.values).float()\n",
    "\n",
    "batch_size=60\n",
    "\n",
    "train_dataset = TimeSeriesDataset(X_train, y_train)\n",
    "train_loader = torch.utils.data.DataLoader(train_dataset, batch_size=batch_size, shuffle=False, pin_memory=True, num_workers = 0, drop_last = True, \n",
    "                                           collate_fn=lambda x: (torch.nn.utils.rnn.pad_sequence([i[0] for i in x], batch_first=True),\n",
    "                                                                 torch.nn.utils.rnn.pad_sequence([i[1] for i in x], batch_first=True)))\n",
    "\n",
    "test_dataset = TimeSeriesDataset(X_test, y_test)\n",
    "test_loader = torch.utils.data.DataLoader(test_dataset, batch_size=batch_size, shuffle=False, pin_memory=True, num_workers = 0, drop_last = True,\n",
    "                                           collate_fn=lambda x: (torch.nn.utils.rnn.pad_sequence([i[0] for i in x], batch_first=True),\n",
    "                                                                 torch.nn.utils.rnn.pad_sequence([i[1] for i in x], batch_first=True)))\n",
    "\n",
    "class ConvolutionalModel(nn.Module):\n",
    "    def __init__(self, input_shape, n_input):\n",
    "        super().__init__()\n",
    "        self.pad = nn.ConstantPad1d((1, 2), 0)\n",
    "        self.conv = nn.Conv1d(100, 16, 4, stride = 1)\n",
    "        self.lstm_1 = nn.LSTM(input_size = 16, hidden_size = 64, batch_first = True, bidirectional = True)\n",
    "        self.lstm_2 = nn.LSTM(input_size = 2*64, hidden_size = 128, batch_first = True, bidirectional = True)\n",
    "        self.fc_1 = nn.Linear(128 * 2,128)\n",
    "        self.fc_2 = nn.Linear(128,1)\n",
    "        self.act = nn.Tanh() \n",
    "        \n",
    "    def forward(self, x):\n",
    "        padded_x = self.pad(x)\n",
    "        conved_x = self.conv(padded_x).permute(0,2,1)\n",
    "        lstm_out_1,_ = self.lstm_1(conved_x)\n",
    "        lstm_out_2,_ = self.lstm_2(lstm_out_1)\n",
    "        out = self.fc_2(self.act(self.fc_1(lstm_out_2.contiguous().view(x.size(0), -1))))\n",
    "        return out\n",
    "    \n",
    "n_input = 100\n",
    "input_shape = (n_input, 1)\n",
    "model = ConvolutionalModel(input_shape, n_input)\n",
    "\n",
    "loss_fn = nn.MSELoss()\n",
    "optimizer = torch.optim.Adam(model.parameters(), lr=0.0001, betas=(0.9, 0.999), eps=1e-08)\n",
    "mae_fn = nn.L1Loss()\n",
    "\n",
    "from torch.nn import L1Loss\n",
    "import matplotlib.pyplot as plt\n",
    "import tqdm\n",
    "\n",
    "\n",
    "device = torch.device(\"cuda:0\" if torch.cuda.is_available() else \"cpu\")\n",
    "model = model.to(device)\n",
    "loss_fn = loss_fn.to(device)\n",
    "mae_fn = mae_fn.to(device)\n",
    "\n",
    "def rete(y_true, y_pred):\n",
    "    y_true = y_true.view(-1, 1)\n",
    "    y_pred = y_pred.view(-1, 1)\n",
    "\n",
    "    # Compute the maximum value between y_true and y_pred element-wise, and reshape it to have shape (batch_size*seq_len, 1)\n",
    "    max_val, _ = torch.max(torch.cat([y_pred, y_true], dim=1), dim=1, keepdim=True)\n",
    "\n",
    "    # Compute the relative error between y_true and y_pred element-wise, and reshape it to have shape (batch_size*seq_len, 1)\n",
    "    rel_err = torch.abs(y_pred - y_true) / max_val\n",
    "\n",
    "    # Take the mean of the relative error across all samples in the batch\n",
    "    return torch.mean(rel_err)\n",
    "\n",
    "def train(net, trainloader, epochs):\n",
    "    for epoch in range(epochs):\n",
    "        for i, (X_batch, y_batch) in enumerate(tqdm.tqdm(train_loader)):\n",
    "            X_batch, y_batch = X_batch.to(device), y_batch.to(device)\n",
    "            y_pred = model(X_batch) \n",
    "            loss = loss_fn(y_pred.view(-1), y_batch.view(-1,1))\n",
    "            mae = mae_fn(y_pred.view(-1), y_batch.view(-1,1))\n",
    "            rete_val = rete(y_batch[:,0,:].view(-1,1), y_pred.view(-1,1))\n",
    "            optimizer.zero_grad()\n",
    "            loss.backward()\n",
    "            optimizer.step()\n",
    "        tqdm.tqdm.write(f\"Epoch [{epoch+1}/{epochs}], Step [{i}/{len(train_loader)}], Loss: {loss.item()}, MAE: {mae.item()}, Rete: {rete_val.item()}\")\n",
    "        \n",
    "        \n",
    "def test(net, testloader):\n",
    "    with torch.no_grad():\n",
    "        for X_batch, y_batch in testloader:\n",
    "            X_batch, y_batch = X_batch.to(device), y_batch.to(device)\n",
    "            y_pred = model(X_batch) \n",
    "            loss = loss_fn(y_pred.view(-1), y_batch.view(-1,1))\n",
    "            mae = mae_fn(y_pred.view(-1), y_batch.view(-1,1))\n",
    "            rete_val = rete(y_batch[:,0,:].view(-1,1), y_pred.view(-1,1))\n",
    "        print(f\" Loss: {loss.item()}, MAE: {mae.item()}, Rete: {rete_val.item()}\")\n",
    "    return loss, mae\n"
   ]
  },
  {
   "cell_type": "code",
   "execution_count": 2,
   "id": "15c9c4aa",
   "metadata": {},
   "outputs": [
    {
     "name": "stderr",
     "output_type": "stream",
     "text": [
      "INFO flower 2023-03-14 16:56:18,323 | grpc.py:50 | Opened insecure gRPC connection (no certificates were passed)\n",
      "DEBUG flower 2023-03-14 16:56:18,324 | connection.py:38 | ChannelConnectivity.IDLE\n",
      "DEBUG flower 2023-03-14 16:56:18,325 | connection.py:38 | ChannelConnectivity.READY\n",
      "  0%|                                                 | 0/13331 [00:00<?, ?it/s]/home/awinlab/anaconda3/envs/daniel_flower/lib/python3.7/site-packages/torch/nn/modules/loss.py:528: UserWarning: Using a target size (torch.Size([6000, 1])) that is different to the input size (torch.Size([60])). This will likely lead to incorrect results due to broadcasting. Please ensure they have the same size.\n",
      "  return F.mse_loss(input, target, reduction=self.reduction)\n",
      "/home/awinlab/anaconda3/envs/daniel_flower/lib/python3.7/site-packages/torch/nn/modules/loss.py:97: UserWarning: Using a target size (torch.Size([6000, 1])) that is different to the input size (torch.Size([60])). This will likely lead to incorrect results due to broadcasting. Please ensure they have the same size.\n",
      "  return F.l1_loss(input, target, reduction=self.reduction)\n",
      "100%|████████████████████████████████████| 13331/13331 [01:36<00:00, 138.59it/s]\n"
     ]
    },
    {
     "name": "stdout",
     "output_type": "stream",
     "text": [
      "Epoch [1/1], Step [13330/13331], Loss: 5.03381070160458e-09, MAE: 5.5472057283623144e-05, Rete: 2.311329808435403e-06\n",
      " Loss: 4.629570504732783e-09, MAE: 5.283355858409777e-05, Rete: 2.201391453127144e-06\n"
     ]
    },
    {
     "name": "stderr",
     "output_type": "stream",
     "text": [
      "100%|████████████████████████████████████| 13331/13331 [01:32<00:00, 143.92it/s]\n"
     ]
    },
    {
     "name": "stdout",
     "output_type": "stream",
     "text": [
      "Epoch [1/1], Step [13330/13331], Loss: 1.3685415467534767e-07, MAE: 0.0002882321714423597, Rete: 1.2009485544695053e-05\n",
      " Loss: 2.930873392870126e-07, MAE: 0.0004244486626703292, Rete: 1.768528818502091e-05\n"
     ]
    },
    {
     "name": "stderr",
     "output_type": "stream",
     "text": [
      "100%|████████████████████████████████████| 13331/13331 [01:33<00:00, 141.99it/s]\n"
     ]
    },
    {
     "name": "stdout",
     "output_type": "stream",
     "text": [
      "Epoch [1/1], Step [13330/13331], Loss: 1.6366745114737569e-07, MAE: 0.00031998951453715563, Rete: 1.333274667558726e-05\n",
      " Loss: 2.083337733438384e-07, MAE: 0.0003785769222304225, Rete: 1.5773792256368324e-05\n"
     ]
    },
    {
     "name": "stderr",
     "output_type": "stream",
     "text": [
      "DEBUG flower 2023-03-14 17:01:30,346 | connection.py:109 | gRPC channel closed\n",
      "INFO flower 2023-03-14 17:01:30,347 | app.py:149 | Disconnect and shut down\n"
     ]
    }
   ],
   "source": [
    "net = ConvolutionalModel(input_shape, n_input)\n",
    "\n",
    "class FlowerClient(fl.client.NumPyClient):\n",
    "  def get_parameters(self, config):\n",
    "    return [val.cpu().numpy() for _, val in net.state_dict().items()]\n",
    "\n",
    "  def set_parameters(self, parameters):\n",
    "    params_dict = zip(net.state_dict().keys(), parameters)\n",
    "    state_dict = OrderedDict({k: torch.tensor(v) for k, v in params_dict})\n",
    "    net.load_state_dict(state_dict, strict=True)\n",
    "\n",
    "  def fit(self, parameters, config):\n",
    "    self.set_parameters(parameters)\n",
    "    train(net, train_loader, epochs=1)\n",
    "    return self.get_parameters(config={}), len(train_loader.dataset), {}\n",
    "\n",
    "  def evaluate(self, parameters, config):\n",
    "    self.set_parameters(parameters)\n",
    "    loss, accuracy = test(net, test_loader)\n",
    "    return float(loss), len(test_loader.dataset), {\"accuracy\": float(accuracy)}\n",
    "\n",
    "# Start Flower client\n",
    "fl.client.start_numpy_client(server_address=\"127.0.0.1:8080\", client=FlowerClient())"
   ]
  },
  {
   "cell_type": "code",
   "execution_count": 3,
   "id": "d1a277d2",
   "metadata": {},
   "outputs": [],
   "source": [
    "predict = []\n",
    "model = model.cpu()\n",
    "with torch.no_grad():\n",
    "    for inputs, labels in test_loader:\n",
    "        outputs = model(inputs)\n",
    "        predict.append(outputs)\n",
    "        \n",
    "predict_list = np.concatenate([p.detach().numpy() for p in predict], axis=0)"
   ]
  },
  {
   "cell_type": "code",
   "execution_count": 4,
   "id": "c923dae0",
   "metadata": {},
   "outputs": [
    {
     "data": {
      "text/plain": [
       "(199860, 1)"
      ]
     },
     "execution_count": 4,
     "metadata": {},
     "output_type": "execute_result"
    }
   ],
   "source": [
    "predict_list.shape"
   ]
  },
  {
   "cell_type": "code",
   "execution_count": 5,
   "id": "9f4623b6",
   "metadata": {},
   "outputs": [
    {
     "data": {
      "image/png": "[encoded data removed]",
      "text/plain": [
       "<Figure size 432x288 with 1 Axes>"
      ]
     },
     "metadata": {},
     "output_type": "display_data"
    }
   ],
   "source": [
    "import matplotlib.pyplot as plt\n",
    "import matplotlib.dates as mdates\n",
    "\n",
    "mask1 = [i % 5 != 0 for i in range(len(plug1_1))]\n",
    "y_test = plug1_1[~np.array(mask1)]\n",
    "y_test = pd.DataFrame(y_test[:-140])\n",
    "\n",
    "y_test.index = pd.to_datetime(y_test.index, format='\"%Y-%m-%d %H:%M:%S\"')\n",
    "\n",
    "# 將y_test轉換為NumPy陣列\n",
    "y_test_np = y_test.to_numpy()\n",
    "\n",
    "# 創建x軸數據\n",
    "x = mdates.date2num(y_test.index)\n",
    "\n",
    "# 繪製圖表\n",
    "\n",
    "fig, ax = plt.subplots(facecolor='white')\n",
    "\n",
    "ax.plot(x, y_test_np,label=\"Actual value\",color='darkorange')\n",
    "plt.plot(x,predict_list,label=\"Predicted value\")\n",
    "\n",
    "# 設置x軸格式\n",
    "xfmt = mdates.DateFormatter(\"%Y-%m-%d\")\n",
    "ax.xaxis.set_major_formatter(xfmt)\n",
    "\n",
    "# 設置x軸間隔為1天(1440分鐘)\n",
    "xloc = mdates.MinuteLocator(interval=1440)\n",
    "ax.xaxis.set_major_locator(xloc)\n",
    "\n",
    "# 旋轉x軸標籤，以避免擠在一起\n",
    "fig.autofmt_xdate(rotation=45)\n",
    "# fig.subplots_adjust(right=1)\n",
    "# 設置標籤\n",
    "plt.xlabel('Time')\n",
    "plt.ylabel('Power(W)')\n",
    "plt.title('plug3-3')\n",
    "plt.legend(loc='upper right')\n",
    "plt.savefig('/home/awinlab/Documents/kevin/CNN-LSTM/FedAvg/CNN-LSTM_plug3-3.png')\n",
    "plt.show()"
   ]
  }
 ],
 "metadata": {
  "kernelspec": {
   "display_name": "daniel_flower",
   "language": "python",
   "name": "daniel_flower"
  },
  "language_info": {
   "codemirror_mode": {
    "name": "ipython",
    "version": 3
   },
   "file_extension": ".py",
   "mimetype": "text/x-python",
   "name": "python",
   "nbconvert_exporter": "python",
   "pygments_lexer": "ipython3",
   "version": "3.7.12"
  }
 },
 "nbformat": 4,
 "nbformat_minor": 5
}
