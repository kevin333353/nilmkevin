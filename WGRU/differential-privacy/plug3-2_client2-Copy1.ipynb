{
 "cells": [
  {
   "cell_type": "code",
   "execution_count": 1,
   "id": "7baf6b27",
   "metadata": {},
   "outputs": [
    {
     "name": "stderr",
     "output_type": "stream",
     "text": [
      "/home/awinlab/anaconda3/envs/daniel_flower/lib/python3.7/site-packages/tqdm/auto.py:22: TqdmWarning: IProgress not found. Please update jupyter and ipywidgets. See https://ipywidgets.readthedocs.io/en/stable/user_install.html\n",
      "  from .autonotebook import tqdm as notebook_tqdm\n"
     ]
    }
   ],
   "source": [
    "from collections import OrderedDict\n",
    "import warnings\n",
    "\n",
    "import flwr as fl\n",
    "import torch\n",
    "import torch.nn as nn\n",
    "import torch.nn.functional as F\n",
    "import os\n",
    "import pandas as pd\n",
    "import numpy as np\n",
    "import torch\n",
    "import torch.nn as nn\n",
    "import torch.optim as optim\n",
    "from sklearn.metrics import mean_squared_error, mean_absolute_error, r2_score\n",
    "from sklearn.model_selection import StratifiedKFold\n",
    "from sklearn import metrics\n",
    "from torch.utils.data import DataLoader, TensorDataset\n",
    "\n",
    "np.random.seed(1337)\n",
    "\n",
    "# Load and process the data\n",
    "aggregate_df1 = pd.read_csv('/home/awinlab/Documents/kevin/elec220.csv', index_col='datetime', parse_dates=True)\n",
    "aggregate_df1 = aggregate_df1[:1000000]\n",
    "\n",
    "plug1_1 = pd.read_csv('/home/awinlab/Documents/kevin/plug3-2.csv', index_col='datetime', parse_dates=True)\n",
    "plug1_1 = plug1_1[:1000000]\n",
    "\n",
    "aggregate_df1 = aggregate_df1.drop(['device', 'vo', 'cu', 'reactive', 'apparent', 'pf', 'freq'], axis=1)\n",
    "plug1_1 = plug1_1.drop(['device', 'vo', 'cu', 'reactive', 'apparent', 'pf', 'freq'], axis=1)\n",
    "\n",
    "class TimeSeriesDataset(torch.utils.data.Dataset):\n",
    "    def __init__(self, X, y, length=100):\n",
    "        self.X = X\n",
    "        self.y = y\n",
    "        self.length = length\n",
    "\n",
    "    def __len__(self):\n",
    "        return len(self.X) - self.length\n",
    "\n",
    "    def __getitem__(self, idx):\n",
    "        X = self.X[idx: idx + self.length]\n",
    "        y = self.y[idx: idx + self.length]\n",
    "        return X, y\n",
    "\n",
    "mask = [i % 5 != 0 for i in range(len(aggregate_df1))]\n",
    "X_test = aggregate_df1[~np.array(mask)]\n",
    "X_train = aggregate_df1[mask]\n",
    "\n",
    "\n",
    "\n",
    "mask1 = [i % 5 != 0 for i in range(len(plug1_1))]\n",
    "y_test = plug1_1[~np.array(mask1)]\n",
    "y_train = plug1_1[mask1]\n",
    "\n",
    "\n",
    "X_test = pd.DataFrame(X_test)\n",
    "y_test = pd.DataFrame(y_test)\n",
    "X_train = pd.DataFrame(X_train)\n",
    "y_train = pd.DataFrame(y_train)\n",
    "\n",
    "X_train = torch.tensor(X_train.values).float()\n",
    "X_test = torch.tensor(X_test.values).float()\n",
    "y_train = torch.tensor(y_train.values).float()\n",
    "y_test = torch.tensor(y_test.values).float()\n",
    "\n",
    "batch_size=60\n",
    "\n",
    "train_dataset = TimeSeriesDataset(X_train, y_train, length=100)\n",
    "train_loader = torch.utils.data.DataLoader(train_dataset, batch_size=batch_size, shuffle=False, num_workers = 0, drop_last = True, \n",
    "                                           collate_fn=lambda x: (torch.nn.utils.rnn.pad_sequence([i[0] for i in x], batch_first=True),\n",
    "                                                                 torch.nn.utils.rnn.pad_sequence([i[1] for i in x], batch_first=True)))\n",
    "\n",
    "test_dataset = TimeSeriesDataset(X_test, y_test, length=100)\n",
    "test_loader = torch.utils.data.DataLoader(test_dataset, batch_size=batch_size, shuffle=False, num_workers = 0, drop_last = True, \n",
    "                                           collate_fn=lambda x: (torch.nn.utils.rnn.pad_sequence([i[0] for i in x], batch_first=True),\n",
    "                                                                 torch.nn.utils.rnn.pad_sequence([i[1] for i in x], batch_first=True)))\n",
    "\n",
    "    \n",
    "class Model(nn.Module):\n",
    "    def __init__(self, input_shape, n_input):\n",
    "        super(Model, self).__init__()\n",
    "        self.conv0 = nn.Conv1d(100, 16, kernel_size=1, stride=1, padding=1)\n",
    "        self.conv1 = nn.Conv1d(16, 4, kernel_size=1, stride=1, padding=1)\n",
    "        self.gru0 = nn.GRU(5, 64, num_layers=2, bidirectional=True)\n",
    "        self.gru1 = nn.GRU(128, 128, num_layers=2, bidirectional=True)\n",
    "        self.gru2 = nn.GRU(256, 256, num_layers=2, bidirectional=True)\n",
    "        self.fc1 = nn.Linear(512, 128)\n",
    "        self.fc2 = nn.Linear(128, 1)\n",
    "        self.relu = nn.ReLU()\n",
    "    \n",
    "    def forward(self, x):\n",
    "        x = self.conv0(x)\n",
    "        x = self.conv1(x)\n",
    "        x = self.relu(x)\n",
    "        \n",
    "        x, _ = self.gru0(x)\n",
    "\n",
    "        x, _ = self.gru1(x)\n",
    "        x = self.relu(x)\n",
    "        \n",
    "        x, _ = self.gru2(x)\n",
    "        x = self.relu(x)\n",
    "        x = self.fc1(x[:, -1, :])\n",
    "        x = self.fc2(x)\n",
    "        return x\n",
    "\n",
    "n_input = 100\n",
    "input_shape = (n_input, 1)\n",
    "model = Model(input_shape, n_input)\n",
    "\n",
    "loss_fn = nn.MSELoss()\n",
    "optimizer = torch.optim.Adam(model.parameters(), lr=0.0001, betas=(0.9, 0.999), eps=1e-08)\n",
    "mae_fn = nn.L1Loss()\n",
    "\n",
    "device = torch.device(\"cuda:0\" if torch.cuda.is_available() else \"cpu\")\n",
    "model = model.to(device)\n",
    "loss_fn = loss_fn.to(device)\n",
    "mae_fn = mae_fn.to(device)\n",
    "\n",
    "from torch.nn import L1Loss\n",
    "import matplotlib.pyplot as plt\n",
    "import tqdm\n",
    "\n",
    "\n",
    "\n",
    "def rete(y_true, y_pred):\n",
    "    y_true = y_true.view(-1, 1)\n",
    "    y_pred = y_pred.view(-1, 1)\n",
    "\n",
    "    # Compute the maximum value between y_true and y_pred element-wise, and reshape it to have shape (batch_size*seq_len, 1)\n",
    "    max_val, _ = torch.max(torch.cat([y_pred, y_true], dim=1), dim=1, keepdim=True)\n",
    "\n",
    "    # Compute the relative error between y_true and y_pred element-wise, and reshape it to have shape (batch_size*seq_len, 1)\n",
    "    rel_err = torch.abs(y_pred - y_true) / max_val\n",
    "\n",
    "    # Take the mean of the relative error across all samples in the batch\n",
    "    return torch.mean(rel_err)\n",
    "\n",
    "device = torch.device(\"cuda:0\" if torch.cuda.is_available() else \"cpu\")\n",
    "model = model.to(device)\n",
    "loss_fn = loss_fn.to(device)\n",
    "mae_fn = mae_fn.to(device)\n",
    "\n",
    "\n",
    "def train(net, trainloader, epochs):\n",
    "    for epoch in range(epochs):\n",
    "        for i, (X_batch, y_batch) in enumerate(tqdm.tqdm(train_loader)):\n",
    "            X_batch, y_batch = X_batch.to(device), y_batch.to(device)\n",
    "            y_pred = model(X_batch) \n",
    "            loss = loss_fn(y_pred.view(-1), y_batch.view(-1,1))\n",
    "            mae = mae_fn(y_pred.view(-1), y_batch.view(-1,1))\n",
    "            rete_val = rete(y_batch[:,0,:].view(-1,1), y_pred.view(-1,1))\n",
    "            optimizer.zero_grad()\n",
    "            loss.backward()\n",
    "            optimizer.step()\n",
    "        tqdm.tqdm.write(f\"Epoch [{epoch+1}/{epochs}], Step [{i}/{len(train_loader)}], Loss: {loss.item()}, MAE: {mae.item()}, Rete: {rete_val.item()}\")\n",
    "        \n",
    "def test(net, testloader):\n",
    "    with torch.no_grad():\n",
    "        for X_batch, y_batch in testloader:\n",
    "            X_batch, y_batch = X_batch.to(device), y_batch.to(device)\n",
    "            y_pred = model(X_batch) \n",
    "            loss = loss_fn(y_pred.view(-1), y_batch.view(-1,1))\n",
    "            mae = mae_fn(y_pred.view(-1), y_batch.view(-1,1))\n",
    "            rete_val = rete(y_batch[:,0,:].view(-1,1), y_pred.view(-1,1))\n",
    "        print(f\" Loss: {loss.item()}, MAE: {mae.item()}, Rete: {rete_val.item()}\")\n",
    "    return loss, mae"
   ]
  },
  {
   "cell_type": "code",
   "execution_count": 2,
   "id": "917eb551",
   "metadata": {},
   "outputs": [
    {
     "name": "stderr",
     "output_type": "stream",
     "text": [
      "INFO flower 2023-03-17 11:10:39,799 | grpc.py:50 | Opened insecure gRPC connection (no certificates were passed)\n",
      "DEBUG flower 2023-03-17 11:10:39,802 | connection.py:38 | ChannelConnectivity.IDLE\n",
      "DEBUG flower 2023-03-17 11:10:39,804 | connection.py:38 | ChannelConnectivity.READY\n",
      "  0%|                                                 | 0/13331 [00:00<?, ?it/s]/home/awinlab/anaconda3/envs/daniel_flower/lib/python3.7/site-packages/torch/nn/modules/loss.py:528: UserWarning: Using a target size (torch.Size([6000, 1])) that is different to the input size (torch.Size([60])). This will likely lead to incorrect results due to broadcasting. Please ensure they have the same size.\n",
      "  return F.mse_loss(input, target, reduction=self.reduction)\n",
      "/home/awinlab/anaconda3/envs/daniel_flower/lib/python3.7/site-packages/torch/nn/modules/loss.py:97: UserWarning: Using a target size (torch.Size([6000, 1])) that is different to the input size (torch.Size([60])). This will likely lead to incorrect results due to broadcasting. Please ensure they have the same size.\n",
      "  return F.l1_loss(input, target, reduction=self.reduction)\n",
      "100%|█████████████████████████████████████| 13331/13331 [12:28<00:00, 17.80it/s]\n"
     ]
    },
    {
     "name": "stdout",
     "output_type": "stream",
     "text": [
      "Epoch [1/1], Step [13330/13331], Loss: 3.5765172015089775e-06, MAE: 0.0011975175002589822, Rete: inf\n",
      " Loss: 3.5693549307325156e-06, MAE: 0.0011960150441154838, Rete: inf\n"
     ]
    },
    {
     "name": "stderr",
     "output_type": "stream",
     "text": [
      "100%|█████████████████████████████████████| 13331/13331 [11:56<00:00, 18.62it/s]\n"
     ]
    },
    {
     "name": "stdout",
     "output_type": "stream",
     "text": [
      "Epoch [1/1], Step [13330/13331], Loss: 3.988330263382522e-06, MAE: 0.0012963132467120886, Rete: inf\n",
      " Loss: 3.9812803152017295e-06, MAE: 0.0012956861173734069, Rete: inf\n"
     ]
    },
    {
     "name": "stderr",
     "output_type": "stream",
     "text": [
      "100%|█████████████████████████████████████| 13331/13331 [11:56<00:00, 18.61it/s]\n"
     ]
    },
    {
     "name": "stdout",
     "output_type": "stream",
     "text": [
      "Epoch [1/1], Step [13330/13331], Loss: 7.822291809134185e-05, MAE: 0.00329990079626441, Rete: inf\n",
      " Loss: 7.81393246143125e-05, MAE: 0.003297795308753848, Rete: inf\n"
     ]
    },
    {
     "name": "stderr",
     "output_type": "stream",
     "text": [
      "DEBUG flower 2023-03-17 11:50:51,919 | connection.py:109 | gRPC channel closed\n",
      "INFO flower 2023-03-17 11:50:51,921 | app.py:149 | Disconnect and shut down\n"
     ]
    }
   ],
   "source": [
    "net = Model(input_shape, n_input)\n",
    "\n",
    "class FlowerClient(fl.client.NumPyClient):\n",
    "    def get_parameters(self, config):\n",
    "        return [val.cpu().numpy() for _, val in net.state_dict().items()]\n",
    "\n",
    "    def set_parameters(self, parameters):\n",
    "        params_dict = zip(net.state_dict().keys(), parameters)\n",
    "        state_dict = OrderedDict({k: torch.tensor(v) for k, v in params_dict})\n",
    "        net.load_state_dict(state_dict, strict=True)\n",
    "\n",
    "    def fit(self, parameters, config):\n",
    "        self.set_parameters(parameters)\n",
    "        train(net, train_loader, epochs=1)\n",
    "        return self.get_parameters(config={}), len(train_loader.dataset), {}\n",
    "\n",
    "    def evaluate(self, parameters, config):\n",
    "        self.set_parameters(parameters)\n",
    "        loss, accuracy = test(net, test_loader)\n",
    "        return float(loss), len(test_loader.dataset), {\"accuracy\": float(accuracy)}\n",
    "\n",
    "# Start Flower client\n",
    "fl.client.start_numpy_client(server_address=\"127.0.0.1:8080\", client=FlowerClient())"
   ]
  },
  {
   "cell_type": "code",
   "execution_count": 3,
   "id": "b66453a8",
   "metadata": {},
   "outputs": [],
   "source": [
    "predict = []\n",
    "model = model.cpu()\n",
    "with torch.no_grad():\n",
    "    for inputs, labels in test_loader:\n",
    "        outputs = model(inputs)\n",
    "        predict.append(outputs[:, 0].unsqueeze(1))\n",
    "predict = torch.cat(predict, dim=0)"
   ]
  },
  {
   "cell_type": "code",
   "execution_count": 4,
   "id": "d71241e6",
   "metadata": {},
   "outputs": [],
   "source": [
    "predict_list = np.concatenate([p.detach().numpy() for p in predict], axis=0)"
   ]
  },
  {
   "cell_type": "code",
   "execution_count": 5,
   "id": "0cf61c5c",
   "metadata": {},
   "outputs": [
    {
     "data": {
      "image/png": "[encoded data removed]",
      "text/plain": [
       "<Figure size 432x288 with 1 Axes>"
      ]
     },
     "metadata": {},
     "output_type": "display_data"
    }
   ],
   "source": [
    "import matplotlib.pyplot as plt\n",
    "import matplotlib.dates as mdates\n",
    "\n",
    "mask1 = [i % 5 != 0 for i in range(len(plug1_1))]\n",
    "y_test = plug1_1[~np.array(mask1)]\n",
    "y_test = pd.DataFrame(y_test[:-140])\n",
    "\n",
    "y_test.index = pd.to_datetime(y_test.index, format='\"%Y-%m-%d %H:%M:%S\"')\n",
    "\n",
    "# 將y_test轉換為NumPy陣列\n",
    "y_test_np = y_test.to_numpy()\n",
    "\n",
    "# 創建x軸數據\n",
    "x = mdates.date2num(y_test.index)\n",
    "\n",
    "# 繪製圖表\n",
    "\n",
    "fig, ax = plt.subplots(facecolor='white')\n",
    "\n",
    "ax.plot(x, y_test_np,label=\"Actual value\",color='darkorange')\n",
    "plt.plot(x,predict_list,label=\"Predicted value\")\n",
    "\n",
    "# 設置x軸格式\n",
    "xfmt = mdates.DateFormatter(\"%Y-%m-%d\")\n",
    "ax.xaxis.set_major_formatter(xfmt)\n",
    "\n",
    "# 設置x軸間隔為1天(1440分鐘)\n",
    "xloc = mdates.MinuteLocator(interval=1440)\n",
    "ax.xaxis.set_major_locator(xloc)\n",
    "\n",
    "# 旋轉x軸標籤，以避免擠在一起\n",
    "fig.autofmt_xdate(rotation=45)\n",
    "# fig.subplots_adjust(right=1)\n",
    "# 設置標籤\n",
    "plt.xlabel('Time')\n",
    "plt.ylabel('Power(W)')\n",
    "plt.title('plug3-2')\n",
    "plt.legend(loc='upper right')\n",
    "plt.savefig('/home/awinlab/Documents/kevin/WGRU/differential-privacy/WindowGRU_plug3-2.png')\n",
    "plt.show()"
   ]
  },
  {
   "cell_type": "code",
   "execution_count": 6,
   "id": "408a362b",
   "metadata": {},
   "outputs": [],
   "source": [
    "# y_test_list = y_test.numpy()\n",
    "# import csv\n",
    "\n",
    "# with open('/home/awinlab/Documents/kevin/WGRU/FedAvg/WindowGRU110V.csv', 'w', newline='') as csvfile:\n",
    "#     writer = csv.writer(csvfile)\n",
    "#     for i in range(1):\n",
    "#         writer.writerow([])\n",
    "#     for row1, row2 in zip(y_test_list[:-120],predict_list.reshape(719880,1)):\n",
    "#         writer.writerow([row1[0], row2[0]])"
   ]
  }
 ],
 "metadata": {
  "kernelspec": {
   "display_name": "daniel_flower",
   "language": "python",
   "name": "daniel_flower"
  },
  "language_info": {
   "codemirror_mode": {
    "name": "ipython",
    "version": 3
   },
   "file_extension": ".py",
   "mimetype": "text/x-python",
   "name": "python",
   "nbconvert_exporter": "python",
   "pygments_lexer": "ipython3",
   "version": "3.7.12"
  }
 },
 "nbformat": 4,
 "nbformat_minor": 5
}
