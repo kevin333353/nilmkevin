{
 "cells": [
  {
   "cell_type": "code",
   "execution_count": 2,
   "id": "2630ac71",
   "metadata": {},
   "outputs": [
    {
     "name": "stderr",
     "output_type": "stream",
     "text": [
      "INFO flower 2022-12-23 15:44:59,469 | app.py:134 | Starting Flower server, config: ServerConfig(num_rounds=3, round_timeout=None)\n",
      "INFO flower 2022-12-23 15:44:59,473 | app.py:148 | Flower ECE: gRPC server running (3 rounds), SSL is disabled\n",
      "INFO flower 2022-12-23 15:44:59,474 | server.py:86 | Initializing global parameters\n",
      "INFO flower 2022-12-23 15:44:59,475 | server.py:270 | Requesting initial parameters from one random client\n",
      "INFO flower 2022-12-23 15:45:18,996 | server.py:274 | Received initial parameters from one random client\n",
      "INFO flower 2022-12-23 15:45:18,997 | server.py:88 | Evaluating initial parameters\n",
      "INFO flower 2022-12-23 15:45:18,997 | server.py:101 | FL starting\n",
      "DEBUG flower 2022-12-23 15:45:19,385 | server.py:220 | fit_round 1: strategy sampled 3 clients (out of 3)\n",
      "DEBUG flower 2022-12-23 15:56:43,401 | server.py:234 | fit_round 1 received 3 results and 0 failures\n",
      "WARNING flower 2022-12-23 15:56:43,412 | fedavg.py:242 | No fit_metrics_aggregation_fn provided\n",
      "DEBUG flower 2022-12-23 15:56:43,413 | server.py:170 | evaluate_round 1: strategy sampled 3 clients (out of 3)\n",
      "DEBUG flower 2022-12-23 16:08:44,834 | server.py:184 | evaluate_round 1 received 3 results and 0 failures\n",
      "WARNING flower 2022-12-23 16:08:44,835 | fedavg.py:273 | No evaluate_metrics_aggregation_fn provided\n",
      "DEBUG flower 2022-12-23 16:08:44,835 | server.py:220 | fit_round 2: strategy sampled 3 clients (out of 3)\n",
      "DEBUG flower 2022-12-23 16:20:04,861 | server.py:234 | fit_round 2 received 3 results and 0 failures\n",
      "DEBUG flower 2022-12-23 16:20:04,872 | server.py:170 | evaluate_round 2: strategy sampled 3 clients (out of 3)\n",
      "DEBUG flower 2022-12-23 16:32:05,808 | server.py:184 | evaluate_round 2 received 3 results and 0 failures\n",
      "DEBUG flower 2022-12-23 16:32:05,809 | server.py:220 | fit_round 3: strategy sampled 3 clients (out of 3)\n",
      "DEBUG flower 2022-12-23 16:43:26,324 | server.py:234 | fit_round 3 received 3 results and 0 failures\n",
      "DEBUG flower 2022-12-23 16:43:26,336 | server.py:170 | evaluate_round 3: strategy sampled 3 clients (out of 3)\n",
      "DEBUG flower 2022-12-23 16:55:27,975 | server.py:184 | evaluate_round 3 received 3 results and 0 failures\n",
      "INFO flower 2022-12-23 16:55:27,976 | server.py:144 | FL finished in 4208.9780678810785\n",
      "INFO flower 2022-12-23 16:55:27,976 | app.py:192 | app_fit: losses_distributed [(1, 73.6699988047282), (2, 77.09297450383504), (3, 75.07495323816936)]\n",
      "INFO flower 2022-12-23 16:55:27,976 | app.py:193 | app_fit: metrics_distributed {}\n",
      "INFO flower 2022-12-23 16:55:27,977 | app.py:194 | app_fit: losses_centralized []\n",
      "INFO flower 2022-12-23 16:55:27,977 | app.py:195 | app_fit: metrics_centralized {}\n"
     ]
    }
   ],
   "source": [
    "from typing import Callable\n",
    "from typing import Dict\n",
    "import flwr as fl\n",
    "from keras.models import Sequential\n",
    "from keras.layers import Dense, Flatten, Conv2D, MaxPool2D, Dropout\n",
    "import numpy as np\n",
    "import os\n",
    "\n",
    "\n",
    "\n",
    "def get_on_fit_config_fn() -> Callable[[int], Dict[str, str]]:\n",
    "    def fit_config(rnd: int) -> Dict[str, str]:\n",
    "        config = {\n",
    "            \"learning_rate\": str(0.001),\n",
    "            \"batch_size\": 32,\n",
    "        }\n",
    "        return config\n",
    "    return fit_config\n",
    "\n",
    "\n",
    "if __name__ == \"__main__\":\n",
    "\n",
    "    strategy = fl.server.strategy.FedAvg(\n",
    "        fraction_fit=0.1,\n",
    "        min_available_clients=3,  \n",
    "        min_fit_clients=3,\n",
    "        min_evaluate_clients=3,\n",
    "        on_fit_config_fn=get_on_fit_config_fn(),\n",
    "    )\n",
    "\n",
    "    fl.server.start_server(\n",
    "        server_address=\"0.0.0.0:8080\",\n",
    "        config=fl.server.ServerConfig(num_rounds=3),\n",
    "        strategy=strategy,\n",
    "    )"
   ]
  }
 ],
 "metadata": {
  "kernelspec": {
   "display_name": "daniel_flower",
   "language": "python",
   "name": "daniel_flower"
  },
  "language_info": {
   "codemirror_mode": {
    "name": "ipython",
    "version": 3
   },
   "file_extension": ".py",
   "mimetype": "text/x-python",
   "name": "python",
   "nbconvert_exporter": "python",
   "pygments_lexer": "ipython3",
   "version": "3.7.12"
  }
 },
 "nbformat": 4,
 "nbformat_minor": 5
}
