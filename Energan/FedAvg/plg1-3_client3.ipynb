{
 "cells": [
  {
   "cell_type": "code",
   "execution_count": 1,
   "id": "bd2fb313",
   "metadata": {},
   "outputs": [
    {
     "name": "stderr",
     "output_type": "stream",
     "text": [
      "/home/awinlab/anaconda3/envs/daniel_flower/lib/python3.7/site-packages/tqdm/auto.py:22: TqdmWarning: IProgress not found. Please update jupyter and ipywidgets. See https://ipywidgets.readthedocs.io/en/stable/user_install.html\n",
      "  from .autonotebook import tqdm as notebook_tqdm\n"
     ]
    }
   ],
   "source": [
    "from collections import OrderedDict\n",
    "import warnings\n",
    "\n",
    "import flwr as fl\n",
    "import torch\n",
    "import torch.nn as nn\n",
    "import torch.nn.functional as F\n",
    "import os\n",
    "import pandas as pd\n",
    "import numpy as np\n",
    "import torch\n",
    "import torch.nn as nn\n",
    "import torch.optim as optim\n",
    "from sklearn.metrics import mean_squared_error, mean_absolute_error, r2_score\n",
    "from sklearn.model_selection import StratifiedKFold\n",
    "from sklearn import metrics\n",
    "from torch.utils.data import DataLoader, TensorDataset\n",
    "\n",
    "np.random.seed(1337)\n",
    "\n",
    "# Load and process the data\n",
    "aggregate_df1 = pd.read_csv('/home/awinlab/Documents/kevin/elec110.csv', index_col='datetime', parse_dates=True)\n",
    "aggregate_df1 = aggregate_df1[:537000]\n",
    "\n",
    "plug1_1 = pd.read_csv('/home/awinlab/Documents/kevin/plug1-3.csv', index_col='datetime', parse_dates=True)\n",
    "plug1_1 = plug1_1[:537000]\n",
    "\n",
    "aggregate_df1 = aggregate_df1.drop(['id','device', 'vo', 'cu', 'reactive', 'apparent', 'pf', 'freq'], axis=1)\n",
    "plug1_1 = plug1_1.drop(['id','device', 'vo', 'cu', 'reactive', 'apparent', 'pf', 'freq'], axis=1)\n",
    "\n",
    "class TimeSeriesDataset(torch.utils.data.Dataset):\n",
    "    def __init__(self, X, y, length=100):\n",
    "        self.X = X\n",
    "        self.y = y\n",
    "        self.length = length\n",
    "\n",
    "    def __len__(self):\n",
    "        return len(self.X) - self.length\n",
    "\n",
    "    def __getitem__(self, idx):\n",
    "        X = self.X[idx: idx + self.length]\n",
    "        y = self.y[idx: idx + self.length]\n",
    "        return X, y\n",
    "\n",
    "mask = [i % 5 != 0 for i in range(len(aggregate_df1))]\n",
    "X_test = aggregate_df1[~np.array(mask)]\n",
    "X_train = aggregate_df1[mask]\n",
    "\n",
    "\n",
    "\n",
    "mask1 = [i % 5 != 0 for i in range(len(plug1_1))]\n",
    "y_test = plug1_1[~np.array(mask1)]\n",
    "y_train = plug1_1[mask1]\n",
    "\n",
    "X_train = pd.DataFrame(X_train)\n",
    "X_test = pd.DataFrame(X_test)\n",
    "y_train = pd.DataFrame(y_train)\n",
    "y_test = pd.DataFrame(y_test)\n",
    "\n",
    "X_train = torch.tensor(X_train.values).float()\n",
    "X_test = torch.tensor(X_test.values).float()\n",
    "y_train = torch.tensor(y_train.values).float()\n",
    "y_test = torch.tensor(y_test.values).float()\n",
    "\n",
    "batch_size=60\n",
    "\n",
    "train_dataset = TimeSeriesDataset(X_train, y_train)\n",
    "train_loader = torch.utils.data.DataLoader(train_dataset, batch_size=batch_size, shuffle=False, pin_memory=True, num_workers = 0, drop_last = True, \n",
    "                                           collate_fn=lambda x: (torch.nn.utils.rnn.pad_sequence([i[0] for i in x], batch_first=True),\n",
    "                                                                 torch.nn.utils.rnn.pad_sequence([i[1] for i in x], batch_first=True)))\n",
    "\n",
    "test_dataset = TimeSeriesDataset(X_test, y_test)\n",
    "test_loader = torch.utils.data.DataLoader(test_dataset, batch_size=batch_size, shuffle=False, pin_memory=True, num_workers = 0, drop_last = True,\n",
    "                                           collate_fn=lambda x: (torch.nn.utils.rnn.pad_sequence([i[0] for i in x], batch_first=True),\n",
    "                                                                 torch.nn.utils.rnn.pad_sequence([i[1] for i in x], batch_first=True)))\n",
    "\n",
    "class Power_Generator(nn.Module):\n",
    "    # Refer to \"KASELIMI M, VOULODIMOS A, PROTOPAPADAKIS E, et al. EnerGAN: A GENERATIVE ADVERSARIAL NETWORK FOR ENERGY DISAGGREGATION[C].2020 ICASSP\"\n",
    "    def __init__(self):\n",
    "        super(Power_Generator, self).__init__()\n",
    "\n",
    "        self.model = nn.Sequential(\n",
    "            nn.Conv1d(1, 256, kernel_size = 8),\n",
    "            nn.LeakyReLU(0.2, inplace=True),\n",
    "            nn.Conv1d(256, 128, kernel_size = 16),\n",
    "            nn.LeakyReLU(0.2, inplace=True),\n",
    "            nn.Conv1d(128, 64, kernel_size = 32),\n",
    "            nn.LeakyReLU(0.2, inplace=True),\n",
    "            nn.ConvTranspose1d(64, 128, kernel_size = 8),\n",
    "            nn.LeakyReLU(0.2, inplace=True),\n",
    "            nn.ConvTranspose1d(128, 256, kernel_size = 16),\n",
    "            nn.LeakyReLU(0.2, inplace=True),\n",
    "            nn.ConvTranspose1d(256, 1, kernel_size = 32),\n",
    "            nn.LeakyReLU(0.2, inplace=True),\n",
    "        )\n",
    "\n",
    "    def forward(self, power_seq):\n",
    "        return self.model(power_seq)\n",
    "    \n",
    "class Power_Discriminator(nn.Module):\n",
    "    # Refer to \"KASELIMI M, VOULODIMOS A, PROTOPAPADAKIS E, et al. EnerGAN: A GENERATIVE ADVERSARIAL NETWORK FOR ENERGY DISAGGREGATION[C].2020 ICASSP\"\n",
    "    def __init__(self, sequence_length):\n",
    "        super(Power_Discriminator, self).__init__()\n",
    "        self.sequence_length = sequence_length\n",
    "        self.model = nn.Sequential(\n",
    "            nn.Conv1d(2, 512, kernel_size = 32),\n",
    "            nn.LeakyReLU(0.2, inplace=True),\n",
    "            nn.Conv1d(512, 256, kernel_size = 16),\n",
    "            nn.LeakyReLU(0.2, inplace=True),\n",
    "            nn.Flatten(),\n",
    "            nn.Linear(13824, 60),\n",
    "            nn.LeakyReLU(0.2, inplace=True),\n",
    "            nn.Linear(60, 1),\n",
    "            nn.Sigmoid()\n",
    "        )\n",
    "\n",
    "    def forward(self, mains_seq, app_seq):\n",
    "\n",
    "        mains_app = torch.cat((mains_seq, app_seq), dim = 1)\n",
    "        validity = self.model(mains_app)\n",
    "        return validity\n",
    "    \n",
    "def initialize(layer):\n",
    "    # Xavier_uniform will be applied to conv1d, convtranspose1d and dense layer, to be consistent with Keras and Tensorflow\n",
    "    if isinstance(layer,nn.Conv1d) or isinstance(layer, nn.Linear) or isinstance(layer, nn.ConvTranspose1d):    \n",
    "        torch.nn.init.xavier_uniform_(layer.weight.data)\n",
    "        if layer.bias is not None:\n",
    "            torch.nn.init.constant_(layer.bias.data, val = 0.0)\n",
    "       \n",
    "    \n",
    "gen_model = Power_Generator()\n",
    "dis_model = Power_Discriminator(100)\n",
    "gen_model = gen_model.cuda()\n",
    "dis_model = dis_model.cuda()\n",
    "gen_model.apply(initialize)\n",
    "dis_model.apply(initialize)\n",
    "    \n",
    "    \n",
    "optimizer_G = torch.optim.Adam(gen_model.parameters(), lr = 1e-3)\n",
    "optimizer_D = torch.optim.Adam(dis_model.parameters(), lr = 1e-3)\n",
    "\n",
    "adversarial_loss = torch.nn.BCELoss()\n",
    "reconstruction_loss = torch.nn.L1Loss()\n",
    "eval_loss = torch.nn.MSELoss()\n",
    "\n",
    "device = torch.device(\"cuda:0\" if torch.cuda.is_available() else \"cpu\")\n",
    "\n",
    "gen_model = gen_model.to(device)\n",
    "dis_model = dis_model.to(device)\n",
    "adversarial_loss = adversarial_loss.to(device)\n",
    "reconstruction_loss = reconstruction_loss.to(device)\n",
    "eval_loss = eval_loss.to(device)\n",
    "\n",
    "from torch.nn import L1Loss\n",
    "import matplotlib.pyplot as plt\n",
    "import tqdm\n",
    "\n",
    "\n"
   ]
  },
  {
   "cell_type": "code",
   "execution_count": 2,
   "id": "1c7f3993",
   "metadata": {},
   "outputs": [],
   "source": [
    "def train(net, trainloader, epochs):\n",
    "    for epoch in range(epochs):\n",
    "        for i, (X_batch, y_batch) in enumerate(tqdm.tqdm(train_loader)):\n",
    "            X_batch = torch.transpose(X_batch, 2, 1)\n",
    "            y_batch = torch.transpose(y_batch, 2, 1)\n",
    "            X_batch, y_batch = X_batch.to(device), y_batch.to(device)\n",
    "            valid = torch.ones(batch_size, 1).float().to(device)\n",
    "            fake = torch.zeros(batch_size, 1).float().to(device)\n",
    "\n",
    "            # Generator Training\n",
    "            gen_model.train()\n",
    "\n",
    "            batch_pred = gen_model(X_batch)\n",
    "            fake_labels = dis_model(batch_pred, X_batch)\n",
    "\n",
    "            ad_loss = adversarial_loss(fake_labels, valid)\n",
    "            pix_loss = reconstruction_loss(batch_pred, y_batch)\n",
    "            gen_loss = ad_loss + 100 * pix_loss\n",
    "\n",
    "            optimizer_G.zero_grad()    \n",
    "            gen_loss.backward()\n",
    "            optimizer_G.step()\n",
    "\n",
    "            # Discriminator Training\n",
    "            dis_model.train()\n",
    "            true_labels = dis_model(y_batch, X_batch)\n",
    "\n",
    "            fake_labels = dis_model(batch_pred.detach(), X_batch)\n",
    "\n",
    "            real_loss = adversarial_loss(true_labels, valid)\n",
    "            fake_loss = adversarial_loss(fake_labels, fake)\n",
    "            dis_loss = (real_loss + fake_loss) / 2\n",
    "\n",
    "            optimizer_D.zero_grad()    \n",
    "            dis_loss.backward()\n",
    "            optimizer_D.step()\n",
    "\n",
    "        gen_model.eval()\n",
    "\n",
    "        tqdm.tqdm.write(f\"Epoch [{epoch+1}/{epochs}], Step [{i}/{len(train_loader)}], Gen Loss: {gen_loss.item()}, Dis Loss: {dis_loss.item()}\")\n",
    "        "
   ]
  },
  {
   "cell_type": "code",
   "execution_count": 3,
   "id": "a54bc03e",
   "metadata": {},
   "outputs": [
    {
     "name": "stderr",
     "output_type": "stream",
     "text": [
      "INFO flower 2023-03-14 17:27:22,545 | grpc.py:50 | Opened insecure gRPC connection (no certificates were passed)\n",
      "DEBUG flower 2023-03-14 17:27:22,547 | connection.py:38 | ChannelConnectivity.IDLE\n",
      "DEBUG flower 2023-03-14 17:27:22,549 | connection.py:38 | ChannelConnectivity.READY\n",
      "100%|███████████████████████████████████████| 7158/7158 [12:04<00:00,  9.88it/s]\n"
     ]
    },
    {
     "name": "stdout",
     "output_type": "stream",
     "text": [
      "Epoch [1/1], Step [7157/7158], Gen Loss: 674.1642456054688, Dis Loss: 50.000003814697266\n"
     ]
    },
    {
     "name": "stderr",
     "output_type": "stream",
     "text": [
      "100%|███████████████████████████████████████| 7158/7158 [12:20<00:00,  9.67it/s]\n"
     ]
    },
    {
     "name": "stdout",
     "output_type": "stream",
     "text": [
      "Epoch [1/1], Step [7157/7158], Gen Loss: 238.34860229492188, Dis Loss: 50.000003814697266\n"
     ]
    },
    {
     "name": "stderr",
     "output_type": "stream",
     "text": [
      "100%|███████████████████████████████████████| 7158/7158 [12:15<00:00,  9.73it/s]\n",
      "DEBUG flower 2023-03-14 18:04:05,241 | connection.py:109 | gRPC channel closed\n",
      "INFO flower 2023-03-14 18:04:05,242 | app.py:149 | Disconnect and shut down\n"
     ]
    },
    {
     "name": "stdout",
     "output_type": "stream",
     "text": [
      "Epoch [1/1], Step [7157/7158], Gen Loss: 1290.641845703125, Dis Loss: 50.000003814697266\n"
     ]
    }
   ],
   "source": [
    "net = Power_Discriminator(100)\n",
    "\n",
    "class FlowerClient(fl.client.NumPyClient):\n",
    "  def get_parameters(self, config):\n",
    "    return [val.cpu().numpy() for _, val in net.state_dict().items()]\n",
    "\n",
    "  def set_parameters(self, parameters):\n",
    "    params_dict = zip(net.state_dict().keys(), parameters)\n",
    "    state_dict = OrderedDict({k: torch.tensor(v) for k, v in params_dict})\n",
    "    net.load_state_dict(state_dict, strict=True)\n",
    "\n",
    "  def fit(self, parameters, config):\n",
    "    self.set_parameters(parameters)\n",
    "    train(net, train_loader, epochs=1)\n",
    "    return self.get_parameters(config={}), len(train_loader.dataset), {}\n",
    "\n",
    "#   def evaluate(self, parameters, config):\n",
    "#     self.set_parameters(parameters)\n",
    "#     gen_loss, dis_loss = test(net, test_loader)\n",
    "#     return float(loss), len(test_loader.dataset), {\"accuracy\": float(accuracy)}\n",
    "\n",
    "# Start Flower client\n",
    "fl.client.start_numpy_client(server_address=\"127.0.0.1:8080\", client=FlowerClient())"
   ]
  },
  {
   "cell_type": "code",
   "execution_count": 4,
   "id": "9df2f348",
   "metadata": {},
   "outputs": [],
   "source": [
    "predict = []\n",
    "model = gen_model.cpu()\n",
    "with torch.no_grad():\n",
    "    for inputs, labels in test_loader:\n",
    "        inputs = torch.transpose(inputs, 2, 1)\n",
    "        labels = torch.transpose(labels, 2, 1)\n",
    "        outputs = model(inputs)\n",
    "        predict.append(outputs[:,:,0])\n",
    "predict = torch.cat(predict, dim=0)\n",
    "predict_list = predict.numpy()"
   ]
  },
  {
   "cell_type": "code",
   "execution_count": 5,
   "id": "9a8fed35",
   "metadata": {},
   "outputs": [],
   "source": [
    "predict_list = predict_list.reshape(-1)"
   ]
  },
  {
   "cell_type": "code",
   "execution_count": 6,
   "id": "89e307a8",
   "metadata": {},
   "outputs": [
    {
     "data": {
      "text/plain": [
       "(107280,)"
      ]
     },
     "execution_count": 6,
     "metadata": {},
     "output_type": "execute_result"
    }
   ],
   "source": [
    "predict_list.shape"
   ]
  },
  {
   "cell_type": "code",
   "execution_count": 7,
   "id": "be283530",
   "metadata": {},
   "outputs": [
    {
     "data": {
      "text/plain": [
       "torch.Size([107400, 1])"
      ]
     },
     "execution_count": 7,
     "metadata": {},
     "output_type": "execute_result"
    }
   ],
   "source": [
    "y_test.shape"
   ]
  },
  {
   "cell_type": "code",
   "execution_count": 8,
   "id": "49b87f0a",
   "metadata": {},
   "outputs": [
    {
     "data": {
      "image/png": "[encoded data removed]",
      "text/plain": [
       "<Figure size 432x288 with 1 Axes>"
      ]
     },
     "metadata": {},
     "output_type": "display_data"
    }
   ],
   "source": [
    "import matplotlib.pyplot as plt\n",
    "import matplotlib.dates as mdates\n",
    "\n",
    "mask1 = [i % 5 != 0 for i in range(len(plug1_1))]\n",
    "y_test = plug1_1[~np.array(mask1)]\n",
    "y_test = pd.DataFrame(y_test[:-120])\n",
    "\n",
    "y_test.index = pd.to_datetime(y_test.index, format='\"%Y-%m-%d %H:%M:%S\"')\n",
    "\n",
    "# 將y_test轉換為NumPy陣列\n",
    "y_test_np = y_test.to_numpy()\n",
    "\n",
    "# 創建x軸數據\n",
    "x = mdates.date2num(y_test.index)\n",
    "\n",
    "# 繪製圖表\n",
    "\n",
    "fig, ax = plt.subplots(facecolor='white')\n",
    "\n",
    "ax.plot(x, y_test_np,label=\"Actual value\",color='darkorange')\n",
    "plt.plot(x,predict_list,label=\"Predicted value\")\n",
    "\n",
    "# 設置x軸格式\n",
    "xfmt = mdates.DateFormatter(\"%Y-%m-%d\")\n",
    "ax.xaxis.set_major_formatter(xfmt)\n",
    "\n",
    "# 設置x軸間隔為1天(1440分鐘)\n",
    "xloc = mdates.MinuteLocator(interval=1440)\n",
    "ax.xaxis.set_major_locator(xloc)\n",
    "\n",
    "# 旋轉x軸標籤，以避免擠在一起\n",
    "fig.autofmt_xdate(rotation=45)\n",
    "# fig.subplots_adjust(right=1)\n",
    "# 設置標籤\n",
    "plt.xlabel('Time')\n",
    "plt.ylabel('Power(W)')\n",
    "plt.title('plug1-3')\n",
    "plt.legend(loc='upper right')\n",
    "plt.savefig('/home/awinlab/Documents/kevin/Energan/FedAvg/Energan_plug1-3.png')\n",
    "plt.show()"
   ]
  },
  {
   "cell_type": "code",
   "execution_count": 9,
   "id": "9ac9a3a4",
   "metadata": {},
   "outputs": [],
   "source": [
    "# y_test_list = y_test.numpy()\n",
    "# import csv\n",
    "\n",
    "# with open('/home/awinlab/Documents/kevin/Energan/FedAvg/Energan110V.csv', 'w', newline='') as csvfile:\n",
    "#     writer = csv.writer(csvfile)\n",
    "#     for i in range(1):\n",
    "#         writer.writerow([])\n",
    "#     for row1, row2 in zip(y_test_list[:-120],predict_list):\n",
    "#         writer.writerow([row1[0], row2[0]])"
   ]
  },
  {
   "cell_type": "code",
   "execution_count": null,
   "id": "0affae72",
   "metadata": {},
   "outputs": [],
   "source": []
  }
 ],
 "metadata": {
  "kernelspec": {
   "display_name": "daniel_flower",
   "language": "python",
   "name": "daniel_flower"
  },
  "language_info": {
   "codemirror_mode": {
    "name": "ipython",
    "version": 3
   },
   "file_extension": ".py",
   "mimetype": "text/x-python",
   "name": "python",
   "nbconvert_exporter": "python",
   "pygments_lexer": "ipython3",
   "version": "3.7.12"
  }
 },
 "nbformat": 4,
 "nbformat_minor": 5
}
